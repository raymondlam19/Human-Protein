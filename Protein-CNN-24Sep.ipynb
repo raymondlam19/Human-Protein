{
 "cells": [
  {
   "cell_type": "markdown",
   "metadata": {},
   "source": [
    "Note: Training set in ssd much faster"
   ]
  },
  {
   "cell_type": "code",
   "execution_count": 1,
   "metadata": {},
   "outputs": [],
   "source": [
    "import sys, os\n",
    "import numpy as np\n",
    "import pandas as pd\n",
    "from matplotlib import pyplot as plt\n",
    "\n",
    "from PIL import Image\n",
    "import imgaug as ia\n",
    "from imgaug import augmenters as iaa\n",
    "import cv2\n",
    "\n",
    "import warnings\n",
    "warnings.filterwarnings(\"ignore\")\n",
    "\n",
    "DIR = 'C:/Human Protein'"
   ]
  },
  {
   "cell_type": "code",
   "execution_count": 2,
   "metadata": {},
   "outputs": [
    {
     "name": "stdout",
     "output_type": "stream",
     "text": [
      "sample_submission.shape: (11702, 2)\n"
     ]
    },
    {
     "data": {
      "text/html": [
       "<div>\n",
       "<style scoped>\n",
       "    .dataframe tbody tr th:only-of-type {\n",
       "        vertical-align: middle;\n",
       "    }\n",
       "\n",
       "    .dataframe tbody tr th {\n",
       "        vertical-align: top;\n",
       "    }\n",
       "\n",
       "    .dataframe thead th {\n",
       "        text-align: right;\n",
       "    }\n",
       "</style>\n",
       "<table border=\"1\" class=\"dataframe\">\n",
       "  <thead>\n",
       "    <tr style=\"text-align: right;\">\n",
       "      <th></th>\n",
       "      <th>Id</th>\n",
       "      <th>Predicted</th>\n",
       "    </tr>\n",
       "  </thead>\n",
       "  <tbody>\n",
       "    <tr>\n",
       "      <th>0</th>\n",
       "      <td>00008af0-bad0-11e8-b2b8-ac1f6b6435d0</td>\n",
       "      <td>0</td>\n",
       "    </tr>\n",
       "    <tr>\n",
       "      <th>1</th>\n",
       "      <td>0000a892-bacf-11e8-b2b8-ac1f6b6435d0</td>\n",
       "      <td>0</td>\n",
       "    </tr>\n",
       "    <tr>\n",
       "      <th>2</th>\n",
       "      <td>0006faa6-bac7-11e8-b2b7-ac1f6b6435d0</td>\n",
       "      <td>0</td>\n",
       "    </tr>\n",
       "    <tr>\n",
       "      <th>3</th>\n",
       "      <td>0008baca-bad7-11e8-b2b9-ac1f6b6435d0</td>\n",
       "      <td>0</td>\n",
       "    </tr>\n",
       "    <tr>\n",
       "      <th>4</th>\n",
       "      <td>000cce7e-bad4-11e8-b2b8-ac1f6b6435d0</td>\n",
       "      <td>0</td>\n",
       "    </tr>\n",
       "  </tbody>\n",
       "</table>\n",
       "</div>"
      ],
      "text/plain": [
       "                                     Id  Predicted\n",
       "0  00008af0-bad0-11e8-b2b8-ac1f6b6435d0          0\n",
       "1  0000a892-bacf-11e8-b2b8-ac1f6b6435d0          0\n",
       "2  0006faa6-bac7-11e8-b2b7-ac1f6b6435d0          0\n",
       "3  0008baca-bad7-11e8-b2b9-ac1f6b6435d0          0\n",
       "4  000cce7e-bad4-11e8-b2b8-ac1f6b6435d0          0"
      ]
     },
     "execution_count": 2,
     "metadata": {},
     "output_type": "execute_result"
    }
   ],
   "source": [
    "sample_submission = pd.read_csv(DIR+\"./input/sample_submission.csv\")\n",
    "\n",
    "print('sample_submission.shape:', sample_submission.shape)\n",
    "sample_submission.head()"
   ]
  },
  {
   "cell_type": "code",
   "execution_count": 3,
   "metadata": {},
   "outputs": [
    {
     "name": "stdout",
     "output_type": "stream",
     "text": [
      "train.shape: (31072, 2)\n"
     ]
    },
    {
     "data": {
      "text/html": [
       "<div>\n",
       "<style scoped>\n",
       "    .dataframe tbody tr th:only-of-type {\n",
       "        vertical-align: middle;\n",
       "    }\n",
       "\n",
       "    .dataframe tbody tr th {\n",
       "        vertical-align: top;\n",
       "    }\n",
       "\n",
       "    .dataframe thead th {\n",
       "        text-align: right;\n",
       "    }\n",
       "</style>\n",
       "<table border=\"1\" class=\"dataframe\">\n",
       "  <thead>\n",
       "    <tr style=\"text-align: right;\">\n",
       "      <th></th>\n",
       "      <th>Id</th>\n",
       "      <th>Target</th>\n",
       "    </tr>\n",
       "  </thead>\n",
       "  <tbody>\n",
       "    <tr>\n",
       "      <th>0</th>\n",
       "      <td>00070df0-bbc3-11e8-b2bc-ac1f6b6435d0</td>\n",
       "      <td>16 0</td>\n",
       "    </tr>\n",
       "    <tr>\n",
       "      <th>1</th>\n",
       "      <td>000a6c98-bb9b-11e8-b2b9-ac1f6b6435d0</td>\n",
       "      <td>7 1 2 0</td>\n",
       "    </tr>\n",
       "    <tr>\n",
       "      <th>2</th>\n",
       "      <td>000a9596-bbc4-11e8-b2bc-ac1f6b6435d0</td>\n",
       "      <td>5</td>\n",
       "    </tr>\n",
       "    <tr>\n",
       "      <th>3</th>\n",
       "      <td>000c99ba-bba4-11e8-b2b9-ac1f6b6435d0</td>\n",
       "      <td>1</td>\n",
       "    </tr>\n",
       "    <tr>\n",
       "      <th>4</th>\n",
       "      <td>001838f8-bbca-11e8-b2bc-ac1f6b6435d0</td>\n",
       "      <td>18</td>\n",
       "    </tr>\n",
       "  </tbody>\n",
       "</table>\n",
       "</div>"
      ],
      "text/plain": [
       "                                     Id   Target\n",
       "0  00070df0-bbc3-11e8-b2bc-ac1f6b6435d0     16 0\n",
       "1  000a6c98-bb9b-11e8-b2b9-ac1f6b6435d0  7 1 2 0\n",
       "2  000a9596-bbc4-11e8-b2bc-ac1f6b6435d0        5\n",
       "3  000c99ba-bba4-11e8-b2b9-ac1f6b6435d0        1\n",
       "4  001838f8-bbca-11e8-b2bc-ac1f6b6435d0       18"
      ]
     },
     "execution_count": 3,
     "metadata": {},
     "output_type": "execute_result"
    }
   ],
   "source": [
    "train = pd.read_csv(DIR+\"./input/train.csv\")\n",
    "\n",
    "print('train.shape:', train.shape)\n",
    "train.head()"
   ]
  },
  {
   "cell_type": "markdown",
   "metadata": {},
   "source": [
    "# Get Train, Test Dataset"
   ]
  },
  {
   "cell_type": "code",
   "execution_count": 4,
   "metadata": {},
   "outputs": [],
   "source": [
    "def getTrainDataset():\n",
    "    \n",
    "    path_to_train = DIR+'./input/train_images/'\n",
    "    data = pd.read_csv(DIR+'./input/train.csv')\n",
    "\n",
    "    paths = []\n",
    "    labels = []\n",
    "    \n",
    "    for name, lbl in zip(data['Id'], data['Target'].str.split(' ')):\n",
    "        y = np.zeros(28)\n",
    "        for key in lbl:\n",
    "            y[int(key)] = 1\n",
    "        labels.append(y)\n",
    "        \n",
    "        paths.append(os.path.join(path_to_train, name))\n",
    "\n",
    "    return np.array(paths), np.array(labels)\n",
    "\n",
    "def getTestDataset():\n",
    "    \n",
    "    path_to_test = DIR+'./input/test_images/'\n",
    "    data = pd.read_csv(DIR+'./input/sample_submission.csv')\n",
    "\n",
    "    paths = []\n",
    "    labels = []\n",
    "    \n",
    "    for name in data['Id']:\n",
    "        y = np.ones(28)\n",
    "        labels.append(y)\n",
    "        paths.append(os.path.join(path_to_test, name))\n",
    "\n",
    "    return np.array(paths), np.array(labels)"
   ]
  },
  {
   "cell_type": "markdown",
   "metadata": {},
   "source": [
    "## Display Test Dataset"
   ]
  },
  {
   "cell_type": "code",
   "execution_count": 5,
   "metadata": {},
   "outputs": [],
   "source": [
    "paths, labels = getTestDataset()"
   ]
  },
  {
   "cell_type": "code",
   "execution_count": 6,
   "metadata": {},
   "outputs": [
    {
     "name": "stdout",
     "output_type": "stream",
     "text": [
      "paths.shape: (11702,)\n"
     ]
    },
    {
     "data": {
      "text/plain": [
       "array(['C:/Human Protein./input/test_images/00008af0-bad0-11e8-b2b8-ac1f6b6435d0',\n",
       "       'C:/Human Protein./input/test_images/0000a892-bacf-11e8-b2b8-ac1f6b6435d0',\n",
       "       'C:/Human Protein./input/test_images/0006faa6-bac7-11e8-b2b7-ac1f6b6435d0',\n",
       "       ...,\n",
       "       'C:/Human Protein./input/test_images/ffecb8a4-bad4-11e8-b2b8-ac1f6b6435d0',\n",
       "       'C:/Human Protein./input/test_images/fff03816-bad5-11e8-b2b9-ac1f6b6435d0',\n",
       "       'C:/Human Protein./input/test_images/fffe6f9c-bacd-11e8-b2b8-ac1f6b6435d0'],\n",
       "      dtype='<U72')"
      ]
     },
     "execution_count": 6,
     "metadata": {},
     "output_type": "execute_result"
    }
   ],
   "source": [
    "print('paths.shape:', paths.shape)\n",
    "paths"
   ]
  },
  {
   "cell_type": "code",
   "execution_count": 7,
   "metadata": {
    "scrolled": true
   },
   "outputs": [
    {
     "name": "stdout",
     "output_type": "stream",
     "text": [
      "labels.shape: (11702, 28)\n"
     ]
    },
    {
     "data": {
      "text/plain": [
       "array([[1., 1., 1., ..., 1., 1., 1.],\n",
       "       [1., 1., 1., ..., 1., 1., 1.],\n",
       "       [1., 1., 1., ..., 1., 1., 1.],\n",
       "       ...,\n",
       "       [1., 1., 1., ..., 1., 1., 1.],\n",
       "       [1., 1., 1., ..., 1., 1., 1.],\n",
       "       [1., 1., 1., ..., 1., 1., 1.]])"
      ]
     },
     "execution_count": 7,
     "metadata": {},
     "output_type": "execute_result"
    }
   ],
   "source": [
    "print('labels.shape:', labels.shape)\n",
    "labels"
   ]
  },
  {
   "cell_type": "markdown",
   "metadata": {},
   "source": [
    "## Display Train Dataset"
   ]
  },
  {
   "cell_type": "code",
   "execution_count": 8,
   "metadata": {},
   "outputs": [],
   "source": [
    "paths, labels = getTrainDataset()"
   ]
  },
  {
   "cell_type": "code",
   "execution_count": 9,
   "metadata": {},
   "outputs": [
    {
     "name": "stdout",
     "output_type": "stream",
     "text": [
      "paths.shape: (31072,)\n"
     ]
    },
    {
     "data": {
      "text/plain": [
       "array(['C:/Human Protein./input/train_images/00070df0-bbc3-11e8-b2bc-ac1f6b6435d0',\n",
       "       'C:/Human Protein./input/train_images/000a6c98-bb9b-11e8-b2b9-ac1f6b6435d0',\n",
       "       'C:/Human Protein./input/train_images/000a9596-bbc4-11e8-b2bc-ac1f6b6435d0',\n",
       "       ...,\n",
       "       'C:/Human Protein./input/train_images/fff189d8-bbab-11e8-b2ba-ac1f6b6435d0',\n",
       "       'C:/Human Protein./input/train_images/fffdf7e0-bbc4-11e8-b2bc-ac1f6b6435d0',\n",
       "       'C:/Human Protein./input/train_images/fffe0ffe-bbc0-11e8-b2bb-ac1f6b6435d0'],\n",
       "      dtype='<U73')"
      ]
     },
     "execution_count": 9,
     "metadata": {},
     "output_type": "execute_result"
    }
   ],
   "source": [
    "print('paths.shape:', paths.shape)\n",
    "paths"
   ]
  },
  {
   "cell_type": "code",
   "execution_count": 10,
   "metadata": {},
   "outputs": [
    {
     "name": "stdout",
     "output_type": "stream",
     "text": [
      "labels.shape: (31072, 28)\n"
     ]
    },
    {
     "data": {
      "text/plain": [
       "array([[1., 0., 0., ..., 0., 0., 0.],\n",
       "       [1., 1., 1., ..., 0., 0., 0.],\n",
       "       [0., 0., 0., ..., 0., 0., 0.],\n",
       "       ...,\n",
       "       [0., 0., 0., ..., 0., 0., 0.],\n",
       "       [0., 0., 1., ..., 1., 0., 0.],\n",
       "       [1., 0., 1., ..., 0., 0., 0.]])"
      ]
     },
     "execution_count": 10,
     "metadata": {},
     "output_type": "execute_result"
    }
   ],
   "source": [
    "print('labels.shape:', labels.shape)\n",
    "labels"
   ]
  },
  {
   "cell_type": "markdown",
   "metadata": {},
   "source": [
    "# Split into train, val set"
   ]
  },
  {
   "cell_type": "markdown",
   "metadata": {},
   "source": [
    "## Split train.index into train_index, val_index"
   ]
  },
  {
   "cell_type": "code",
   "execution_count": 11,
   "metadata": {},
   "outputs": [],
   "source": [
    "VALIDATION_SPLIT = 0.09\n",
    "SEED = 777"
   ]
  },
  {
   "cell_type": "code",
   "execution_count": 12,
   "metadata": {},
   "outputs": [
    {
     "name": "stdout",
     "output_type": "stream",
     "text": [
      "train_index.shape: (28275,)\n",
      "val_index.shape: (2797,)\n"
     ]
    }
   ],
   "source": [
    "from sklearn.model_selection import train_test_split\n",
    "\n",
    "train_index, val_index = train_test_split(\n",
    "    train.index, test_size=VALIDATION_SPLIT, random_state=SEED)\n",
    "\n",
    "print('train_index.shape:', train_index.shape)\n",
    "print('val_index.shape:', val_index.shape)"
   ]
  },
  {
   "cell_type": "markdown",
   "metadata": {},
   "source": [
    "## Split paths, label into paths_train, labels_train, paths_val, labels_val"
   ]
  },
  {
   "cell_type": "code",
   "execution_count": 13,
   "metadata": {},
   "outputs": [
    {
     "name": "stdout",
     "output_type": "stream",
     "text": [
      "paths.shape: (31072,)\n",
      "labels.shape: (31072, 28)\n",
      "\n",
      "paths_train.shape: (28275,)\n",
      "labels_train.shape: (28275, 28)\n",
      "paths_val.shape: (2797,)\n",
      "labels_val.shape: (2797, 28)\n"
     ]
    }
   ],
   "source": [
    "paths_train = paths[train_index]\n",
    "labels_train = labels[train_index]\n",
    "paths_val = paths[val_index]\n",
    "labels_val = labels[val_index]\n",
    "\n",
    "print('paths.shape:', paths.shape)\n",
    "print('labels.shape:', labels.shape)\n",
    "print()\n",
    "print('paths_train.shape:', paths_train.shape)\n",
    "print('labels_train.shape:', labels_train.shape)\n",
    "print('paths_val.shape:', paths_val.shape)\n",
    "print('labels_val.shape:', labels_val.shape)"
   ]
  },
  {
   "cell_type": "markdown",
   "metadata": {},
   "source": [
    "# Data Generator"
   ]
  },
  {
   "cell_type": "code",
   "execution_count": 14,
   "metadata": {},
   "outputs": [
    {
     "name": "stderr",
     "output_type": "stream",
     "text": [
      "Using TensorFlow backend.\n"
     ]
    }
   ],
   "source": [
    "import keras\n",
    "\n",
    "class ProteinDataGenerator(keras.utils.Sequence):\n",
    "            \n",
    "    def __init__(self, paths, labels, batch_size, shape, shuffle = False, use_cache = False, augment = False):\n",
    "        self.paths, self.labels = paths, labels\n",
    "        self.batch_size = batch_size\n",
    "        self.shape = shape\n",
    "        self.shuffle = shuffle\n",
    "        self.use_cache = use_cache\n",
    "        self.augment = augment\n",
    "        if use_cache == True:\n",
    "            self.cache = np.zeros((paths.shape[0], shape[0], shape[1], shape[2]), dtype=np.float16)\n",
    "            self.is_cached = np.zeros((paths.shape[0]))\n",
    "        self.on_epoch_end()\n",
    "    \n",
    "    def __len__(self):\n",
    "        return int(np.ceil(len(self.paths) / float(self.batch_size)))\n",
    "    \n",
    "    def __getitem__(self, idx):\n",
    "        indexes = self.indexes[idx * self.batch_size : (idx+1) * self.batch_size]\n",
    "\n",
    "        paths = self.paths[indexes]\n",
    "        X = np.zeros((paths.shape[0], self.shape[0], self.shape[1], self.shape[2]))\n",
    "        # Generate data\n",
    "        if self.use_cache == True:\n",
    "            X = self.cache[indexes]\n",
    "            for i, path in enumerate(paths[np.where(self.is_cached[indexes] == 0)]):\n",
    "                image = self.__load_image(path)\n",
    "                self.is_cached[indexes[i]] = 1\n",
    "                self.cache[indexes[i]] = image\n",
    "                X[i] = image\n",
    "        else:\n",
    "            for i, path in enumerate(paths):\n",
    "                X[i] = self.__load_image(path)\n",
    "\n",
    "        y = self.labels[indexes]\n",
    "                \n",
    "        if self.augment == True:\n",
    "            seq = iaa.Sequential([\n",
    "                iaa.OneOf([\n",
    "                    iaa.Fliplr(0.5),                                                            # horizontal flips\n",
    "                    iaa.Crop(percent=(0, 0.1)),                                                 # random crops\n",
    "                    # Small gaussian blur with random sigma between 0 and 0.5.\n",
    "                    # But we only blur about 50% of all images.\n",
    "                    iaa.Sometimes(0.5,\n",
    "                        iaa.GaussianBlur(sigma=(0, 0.5))\n",
    "                    ),\n",
    "                    # Strengthen or weaken the contrast in each image.\n",
    "                    iaa.ContrastNormalization((0.75, 1.5)),\n",
    "                    # Add gaussian noise.\n",
    "                    # For 50% of all images, we sample the noise once per pixel.\n",
    "                    # For the other 50% of all images, we sample the noise per pixel AND\n",
    "                    # channel. This can change the color (not only brightness) of the\n",
    "                    # pixels.\n",
    "                    #iaa.AdditiveGaussianNoise(loc=0, scale=(0.0, 0.05*255), per_channel=0.5),   #cannot float64 (1./255)\n",
    "                    # Make some images brighter and some darker.\n",
    "                    # In 20% of all cases, we sample the multiplier once per channel,\n",
    "                    # which can end up changing the color of the images.\n",
    "                    #iaa.Multiply((0.8, 1.2), per_channel=0.2),                                  #cannot float64 (1./255)\n",
    "                    # Apply affine transformations to each image.\n",
    "                    # Scale/zoom them, translate/move them, rotate them and shear them.\n",
    "                    iaa.Affine(\n",
    "                        scale={\"x\": (0.8, 1.2), \"y\": (0.8, 1.2)},\n",
    "                        translate_percent={\"x\": (-0.2, 0.2), \"y\": (-0.2, 0.2)},\n",
    "                        rotate=(-180, 180),\n",
    "                        shear=(-8, 8)\n",
    "                    )\n",
    "                ])], random_order=True)\n",
    "\n",
    "            X = np.concatenate((X, seq.augment_images(X), seq.augment_images(X), seq.augment_images(X)), 0)\n",
    "            y = np.concatenate((y, y, y, y), 0)\n",
    "        \n",
    "        return X, y\n",
    "    \n",
    "    def on_epoch_end(self):\n",
    "        \n",
    "        # Updates indexes after each epoch\n",
    "        self.indexes = np.arange(len(self.paths))\n",
    "        if self.shuffle == True:\n",
    "            np.random.shuffle(self.indexes)\n",
    "\n",
    "    def __iter__(self):\n",
    "        \"\"\"Create a generator that iterate over the Sequence.\"\"\"\n",
    "        for item in (self[i] for i in range(len(self))):\n",
    "            yield item\n",
    "            \n",
    "    def __load_image(self, path):\n",
    "        R = np.array(Image.open(path + '_red.png'))\n",
    "        G = np.array(Image.open(path + '_green.png'))\n",
    "        B = np.array(Image.open(path + '_blue.png'))\n",
    "        Y = np.array(Image.open(path + '_yellow.png'))\n",
    "\n",
    "        # (256,256,4)\n",
    "        im = np.stack((\n",
    "            R, \n",
    "            G, \n",
    "            B,\n",
    "            Y), -1)\n",
    "        \n",
    "#         # (256,256,3)\n",
    "#         im = np.stack((\n",
    "#             R/2 + Y/2, \n",
    "#             G/2 + Y/2, \n",
    "#             B),-1)\n",
    "        \n",
    "        im = cv2.resize(im, (self.shape[0], self.shape[1]))\n",
    "        im = np.divide(im, 255)\n",
    "        return im"
   ]
  },
  {
   "cell_type": "code",
   "execution_count": 15,
   "metadata": {},
   "outputs": [],
   "source": [
    "BATCH_SIZE = 32\n",
    "INPUT_SHAPE = (256, 256, 4)"
   ]
  },
  {
   "cell_type": "code",
   "execution_count": 16,
   "metadata": {},
   "outputs": [
    {
     "name": "stdout",
     "output_type": "stream",
     "text": [
      "steps_per_epoch: 884\n",
      "validation_steps: 88\n"
     ]
    }
   ],
   "source": [
    "train_datagen = ProteinDataGenerator(\n",
    "    paths  = paths_train, \n",
    "    labels = labels_train, \n",
    "    batch_size = BATCH_SIZE, \n",
    "    shape = INPUT_SHAPE, \n",
    "    use_cache = False,\n",
    "    augment = False, \n",
    "    shuffle = True)\n",
    "\n",
    "val_datagen = ProteinDataGenerator(\n",
    "    paths  = paths_val, \n",
    "    labels = labels_val, \n",
    "    batch_size = BATCH_SIZE, \n",
    "    shape = INPUT_SHAPE, \n",
    "    use_cache = False, \n",
    "    shuffle = False)\n",
    "\n",
    "print('steps_per_epoch:', len(train_datagen))\n",
    "print('validation_steps:', len(val_datagen))"
   ]
  },
  {
   "cell_type": "markdown",
   "metadata": {},
   "source": [
    "# Model in Keras"
   ]
  },
  {
   "cell_type": "code",
   "execution_count": 17,
   "metadata": {},
   "outputs": [],
   "source": [
    "import keras\n",
    "from keras import backend as K\n",
    "from keras.models import Sequential, load_model, Model\n",
    "from keras.layers import Activation, Dropout, Flatten, Dense, Input, Conv2D, MaxPooling2D, BatchNormalization, Concatenate, ReLU, LeakyReLU, GlobalAveragePooling2D\n",
    "from keras.callbacks import ModelCheckpoint, EarlyStopping, ReduceLROnPlateau\n",
    "from keras import metrics\n",
    "from keras.optimizers import Adam\n",
    "from keras.callbacks import ModelCheckpoint\n",
    "import tensorflow as tf"
   ]
  },
  {
   "cell_type": "code",
   "execution_count": 18,
   "metadata": {},
   "outputs": [],
   "source": [
    "# Metric: F1\n",
    "\n",
    "def f1(y_true, y_pred):\n",
    "    \n",
    "    tp = K.sum(K.cast(y_true*y_pred, 'float'), axis=0)\n",
    "    fp = K.sum(K.cast((1-y_true)*y_pred, 'float'), axis=0)\n",
    "    fn = K.sum(K.cast(y_true*(1-y_pred), 'float'), axis=0)\n",
    "\n",
    "    p = tp / (tp + fp + K.epsilon())\n",
    "    r = tp / (tp + fn + K.epsilon())\n",
    "\n",
    "    f1 = 2*p*r / (p+r+K.epsilon())\n",
    "    f1 = tf.where(tf.is_nan(f1), tf.zeros_like(f1), f1)\n",
    "    return K.mean(f1)"
   ]
  },
  {
   "cell_type": "code",
   "execution_count": 19,
   "metadata": {},
   "outputs": [],
   "source": [
    "KEEP_PROB = 0.25"
   ]
  },
  {
   "cell_type": "code",
   "execution_count": 20,
   "metadata": {},
   "outputs": [],
   "source": [
    "def create_model(input_shape):\n",
    "    \n",
    "    inputs = Input(input_shape)\n",
    "    \n",
    "    x = Conv2D(8, (3, 3))(inputs)\n",
    "    x = BatchNormalization()(x)\n",
    "    x = ReLU()(x)\n",
    "    \n",
    "    x = Conv2D(8, (3, 3))(x)\n",
    "    x = BatchNormalization()(x)\n",
    "    x = ReLU()(x)\n",
    "    \n",
    "    x = Conv2D(16, (3, 3))(x)\n",
    "    x = BatchNormalization()(x)\n",
    "    x = ReLU()(x)\n",
    "    x = MaxPooling2D(pool_size=(2, 2))(x)\n",
    "    x = Dropout(KEEP_PROB)(x)\n",
    "    \n",
    "    c1 = Conv2D(16, (3, 3), padding='same')(x)\n",
    "    c1 = ReLU()(c1)\n",
    "    c2 = Conv2D(16, (5, 5), padding='same')(x)\n",
    "    c2 = ReLU()(c2)\n",
    "    c3 = Conv2D(16, (7, 7), padding='same')(x)\n",
    "    c3 = ReLU()(c3)\n",
    "    c4 = Conv2D(16, (1, 1), padding='same')(x)\n",
    "    c4 = ReLU()(c4)\n",
    "    \n",
    "    x = Concatenate()([c1, c2, c3, c4])\n",
    "    x = BatchNormalization()(x)\n",
    "    x = MaxPooling2D(pool_size=(2, 2))(x)\n",
    "    x = Dropout(KEEP_PROB)(x)\n",
    "    \n",
    "    x = Conv2D(32, (3, 3))(x)\n",
    "    x = BatchNormalization()(x)\n",
    "    x = ReLU()(x)\n",
    "    x = MaxPooling2D(pool_size=(2, 2))(x)\n",
    "    x = Dropout(KEEP_PROB)(x)\n",
    "    \n",
    "    x = Conv2D(64, (3, 3))(x)\n",
    "    x = BatchNormalization()(x)\n",
    "    x = ReLU()(x)\n",
    "    x = MaxPooling2D(pool_size=(2, 2))(x)\n",
    "    x = Dropout(KEEP_PROB)(x)\n",
    "    \n",
    "    x = Conv2D(128, (3, 3))(x)\n",
    "    x = BatchNormalization()(x)\n",
    "    x = ReLU()(x)\n",
    "    x = MaxPooling2D(pool_size=(2, 2))(x)\n",
    "    x = Dropout(KEEP_PROB)(x)\n",
    "    \n",
    "    x = GlobalAveragePooling2D()(x)\n",
    "    x = BatchNormalization()(x)\n",
    "    #x = Flatten()(x)\n",
    "    x = Dropout(0.5)(x)\n",
    "\n",
    "    x = Dense(256)(x)\n",
    "    x = BatchNormalization()(x)\n",
    "    x = ReLU()(x)\n",
    "    x = Dropout(0.1)(x)\n",
    "    \n",
    "    outputs = Dense(28, activation = 'sigmoid')(x)\n",
    "    \n",
    "    model = Model(inputs, outputs)\n",
    "\n",
    "    model.summary()\n",
    "    \n",
    "    return model"
   ]
  },
  {
   "cell_type": "code",
   "execution_count": 22,
   "metadata": {},
   "outputs": [
    {
     "name": "stdout",
     "output_type": "stream",
     "text": [
      "__________________________________________________________________________________________________\n",
      "Layer (type)                    Output Shape         Param #     Connected to                     \n",
      "==================================================================================================\n",
      "input_1 (InputLayer)            (None, 256, 256, 4)  0                                            \n",
      "__________________________________________________________________________________________________\n",
      "conv2d_1 (Conv2D)               (None, 254, 254, 8)  296         input_1[0][0]                    \n",
      "__________________________________________________________________________________________________\n",
      "batch_normalization_1 (BatchNor (None, 254, 254, 8)  32          conv2d_1[0][0]                   \n",
      "__________________________________________________________________________________________________\n",
      "re_lu_1 (ReLU)                  (None, 254, 254, 8)  0           batch_normalization_1[0][0]      \n",
      "__________________________________________________________________________________________________\n",
      "conv2d_2 (Conv2D)               (None, 252, 252, 8)  584         re_lu_1[0][0]                    \n",
      "__________________________________________________________________________________________________\n",
      "batch_normalization_2 (BatchNor (None, 252, 252, 8)  32          conv2d_2[0][0]                   \n",
      "__________________________________________________________________________________________________\n",
      "re_lu_2 (ReLU)                  (None, 252, 252, 8)  0           batch_normalization_2[0][0]      \n",
      "__________________________________________________________________________________________________\n",
      "conv2d_3 (Conv2D)               (None, 250, 250, 16) 1168        re_lu_2[0][0]                    \n",
      "__________________________________________________________________________________________________\n",
      "batch_normalization_3 (BatchNor (None, 250, 250, 16) 64          conv2d_3[0][0]                   \n",
      "__________________________________________________________________________________________________\n",
      "re_lu_3 (ReLU)                  (None, 250, 250, 16) 0           batch_normalization_3[0][0]      \n",
      "__________________________________________________________________________________________________\n",
      "max_pooling2d_1 (MaxPooling2D)  (None, 125, 125, 16) 0           re_lu_3[0][0]                    \n",
      "__________________________________________________________________________________________________\n",
      "dropout_1 (Dropout)             (None, 125, 125, 16) 0           max_pooling2d_1[0][0]            \n",
      "__________________________________________________________________________________________________\n",
      "conv2d_4 (Conv2D)               (None, 125, 125, 16) 2320        dropout_1[0][0]                  \n",
      "__________________________________________________________________________________________________\n",
      "conv2d_5 (Conv2D)               (None, 125, 125, 16) 6416        dropout_1[0][0]                  \n",
      "__________________________________________________________________________________________________\n",
      "conv2d_6 (Conv2D)               (None, 125, 125, 16) 12560       dropout_1[0][0]                  \n",
      "__________________________________________________________________________________________________\n",
      "conv2d_7 (Conv2D)               (None, 125, 125, 16) 272         dropout_1[0][0]                  \n",
      "__________________________________________________________________________________________________\n",
      "re_lu_4 (ReLU)                  (None, 125, 125, 16) 0           conv2d_4[0][0]                   \n",
      "__________________________________________________________________________________________________\n",
      "re_lu_5 (ReLU)                  (None, 125, 125, 16) 0           conv2d_5[0][0]                   \n",
      "__________________________________________________________________________________________________\n",
      "re_lu_6 (ReLU)                  (None, 125, 125, 16) 0           conv2d_6[0][0]                   \n",
      "__________________________________________________________________________________________________\n",
      "re_lu_7 (ReLU)                  (None, 125, 125, 16) 0           conv2d_7[0][0]                   \n",
      "__________________________________________________________________________________________________\n",
      "concatenate_1 (Concatenate)     (None, 125, 125, 64) 0           re_lu_4[0][0]                    \n",
      "                                                                 re_lu_5[0][0]                    \n",
      "                                                                 re_lu_6[0][0]                    \n",
      "                                                                 re_lu_7[0][0]                    \n",
      "__________________________________________________________________________________________________\n",
      "batch_normalization_4 (BatchNor (None, 125, 125, 64) 256         concatenate_1[0][0]              \n",
      "__________________________________________________________________________________________________\n",
      "max_pooling2d_2 (MaxPooling2D)  (None, 62, 62, 64)   0           batch_normalization_4[0][0]      \n",
      "__________________________________________________________________________________________________\n",
      "dropout_2 (Dropout)             (None, 62, 62, 64)   0           max_pooling2d_2[0][0]            \n",
      "__________________________________________________________________________________________________\n",
      "conv2d_8 (Conv2D)               (None, 60, 60, 32)   18464       dropout_2[0][0]                  \n",
      "__________________________________________________________________________________________________\n",
      "batch_normalization_5 (BatchNor (None, 60, 60, 32)   128         conv2d_8[0][0]                   \n",
      "__________________________________________________________________________________________________\n",
      "re_lu_8 (ReLU)                  (None, 60, 60, 32)   0           batch_normalization_5[0][0]      \n",
      "__________________________________________________________________________________________________\n",
      "max_pooling2d_3 (MaxPooling2D)  (None, 30, 30, 32)   0           re_lu_8[0][0]                    \n",
      "__________________________________________________________________________________________________\n",
      "dropout_3 (Dropout)             (None, 30, 30, 32)   0           max_pooling2d_3[0][0]            \n",
      "__________________________________________________________________________________________________\n",
      "conv2d_9 (Conv2D)               (None, 28, 28, 64)   18496       dropout_3[0][0]                  \n",
      "__________________________________________________________________________________________________\n",
      "batch_normalization_6 (BatchNor (None, 28, 28, 64)   256         conv2d_9[0][0]                   \n",
      "__________________________________________________________________________________________________\n",
      "re_lu_9 (ReLU)                  (None, 28, 28, 64)   0           batch_normalization_6[0][0]      \n",
      "__________________________________________________________________________________________________\n",
      "max_pooling2d_4 (MaxPooling2D)  (None, 14, 14, 64)   0           re_lu_9[0][0]                    \n",
      "__________________________________________________________________________________________________\n",
      "dropout_4 (Dropout)             (None, 14, 14, 64)   0           max_pooling2d_4[0][0]            \n",
      "__________________________________________________________________________________________________\n",
      "conv2d_10 (Conv2D)              (None, 12, 12, 128)  73856       dropout_4[0][0]                  \n",
      "__________________________________________________________________________________________________\n",
      "batch_normalization_7 (BatchNor (None, 12, 12, 128)  512         conv2d_10[0][0]                  \n",
      "__________________________________________________________________________________________________\n",
      "re_lu_10 (ReLU)                 (None, 12, 12, 128)  0           batch_normalization_7[0][0]      \n",
      "__________________________________________________________________________________________________\n",
      "max_pooling2d_5 (MaxPooling2D)  (None, 6, 6, 128)    0           re_lu_10[0][0]                   \n",
      "__________________________________________________________________________________________________\n",
      "dropout_5 (Dropout)             (None, 6, 6, 128)    0           max_pooling2d_5[0][0]            \n",
      "__________________________________________________________________________________________________\n",
      "global_average_pooling2d_1 (Glo (None, 128)          0           dropout_5[0][0]                  \n",
      "__________________________________________________________________________________________________\n",
      "batch_normalization_8 (BatchNor (None, 128)          512         global_average_pooling2d_1[0][0] \n",
      "__________________________________________________________________________________________________\n",
      "dropout_6 (Dropout)             (None, 128)          0           batch_normalization_8[0][0]      \n",
      "__________________________________________________________________________________________________\n",
      "dense_1 (Dense)                 (None, 256)          33024       dropout_6[0][0]                  \n",
      "__________________________________________________________________________________________________\n",
      "batch_normalization_9 (BatchNor (None, 256)          1024        dense_1[0][0]                    \n",
      "__________________________________________________________________________________________________\n",
      "re_lu_11 (ReLU)                 (None, 256)          0           batch_normalization_9[0][0]      \n",
      "__________________________________________________________________________________________________\n",
      "dropout_7 (Dropout)             (None, 256)          0           re_lu_11[0][0]                   \n",
      "__________________________________________________________________________________________________\n",
      "dense_2 (Dense)                 (None, 28)           7196        dropout_7[0][0]                  \n",
      "==================================================================================================\n",
      "Total params: 177,468\n",
      "Trainable params: 176,060\n",
      "Non-trainable params: 1,408\n",
      "__________________________________________________________________________________________________\n"
     ]
    },
    {
     "name": "stdout",
     "output_type": "stream",
     "text": [
      "Wall time: 1.6 s\n"
     ]
    }
   ],
   "source": [
    "%%time\n",
    "\n",
    "keras.backend.clear_session()\n",
    "\n",
    "# Create model\n",
    "model = create_model(input_shape = INPUT_SHAPE)\n",
    "\n",
    "# Load weights\n",
    "model.load_weights('./model/protein_CNN_valloss_0.0962.h5')\n",
    "\n",
    "# Compile model\n",
    "model.compile(\n",
    "    loss = 'binary_crossentropy',\n",
    "    optimizer = Adam(lr=1e-03),\n",
    "    metrics = ['acc',f1])"
   ]
  },
  {
   "cell_type": "code",
   "execution_count": 23,
   "metadata": {},
   "outputs": [],
   "source": [
    "# Define callbacks (EarlyStopping, ReduceLROnPlateau, ModelCheckpoint)\n",
    "# ModelCheckpoint: Save the (best) model weights after every epoch\n",
    "\n",
    "from keras.callbacks import EarlyStopping, ReduceLROnPlateau, ModelCheckpoint\n",
    "\n",
    "callbacks = [\n",
    "             EarlyStopping(monitor='val_loss', patience=3, min_delta=1e-4),\n",
    "             ReduceLROnPlateau(monitor='val_loss', factor=0.7, patience=2, cooldown=1, min_lr=1e-6),\n",
    "             ModelCheckpoint(filepath='./model/protein_CNN_valloss.h5', monitor='val_loss',\n",
    "                             save_best_only=True, save_weights_only=False)\n",
    "            ]"
   ]
  },
  {
   "cell_type": "code",
   "execution_count": 23,
   "metadata": {},
   "outputs": [],
   "source": [
    "EPOCHS = 10"
   ]
  },
  {
   "cell_type": "code",
   "execution_count": 61,
   "metadata": {},
   "outputs": [
    {
     "name": "stdout",
     "output_type": "stream",
     "text": [
      "Epoch 1/1\n"
     ]
    },
    {
     "ename": "ValueError",
     "evalue": "Got dtype 'float64' in augmenter 'UnnamedAdditiveGaussianNoise' (class 'AddElementwise'), which is a forbidden dtype (uint32, uint64, uint128, uint256, int32, int64, int128, int256, float64, float96, float128, float256).",
     "output_type": "error",
     "traceback": [
      "\u001b[1;31m---------------------------------------------------------------------------\u001b[0m",
      "\u001b[1;31mValueError\u001b[0m                                Traceback (most recent call last)",
      "\u001b[1;32m<timed exec>\u001b[0m in \u001b[0;36m<module>\u001b[1;34m\u001b[0m\n",
      "\u001b[1;32mD:\\Anaconda3\\envs\\tensorflow\\lib\\site-packages\\keras\\legacy\\interfaces.py\u001b[0m in \u001b[0;36mwrapper\u001b[1;34m(*args, **kwargs)\u001b[0m\n\u001b[0;32m     89\u001b[0m                 warnings.warn('Update your `' + object_name + '` call to the ' +\n\u001b[0;32m     90\u001b[0m                               'Keras 2 API: ' + signature, stacklevel=2)\n\u001b[1;32m---> 91\u001b[1;33m             \u001b[1;32mreturn\u001b[0m \u001b[0mfunc\u001b[0m\u001b[1;33m(\u001b[0m\u001b[1;33m*\u001b[0m\u001b[0margs\u001b[0m\u001b[1;33m,\u001b[0m \u001b[1;33m**\u001b[0m\u001b[0mkwargs\u001b[0m\u001b[1;33m)\u001b[0m\u001b[1;33m\u001b[0m\u001b[1;33m\u001b[0m\u001b[0m\n\u001b[0m\u001b[0;32m     92\u001b[0m         \u001b[0mwrapper\u001b[0m\u001b[1;33m.\u001b[0m\u001b[0m_original_function\u001b[0m \u001b[1;33m=\u001b[0m \u001b[0mfunc\u001b[0m\u001b[1;33m\u001b[0m\u001b[1;33m\u001b[0m\u001b[0m\n\u001b[0;32m     93\u001b[0m         \u001b[1;32mreturn\u001b[0m \u001b[0mwrapper\u001b[0m\u001b[1;33m\u001b[0m\u001b[1;33m\u001b[0m\u001b[0m\n",
      "\u001b[1;32mD:\\Anaconda3\\envs\\tensorflow\\lib\\site-packages\\keras\\engine\\training.py\u001b[0m in \u001b[0;36mfit_generator\u001b[1;34m(self, generator, steps_per_epoch, epochs, verbose, callbacks, validation_data, validation_steps, class_weight, max_queue_size, workers, use_multiprocessing, shuffle, initial_epoch)\u001b[0m\n\u001b[0;32m   1416\u001b[0m             \u001b[0muse_multiprocessing\u001b[0m\u001b[1;33m=\u001b[0m\u001b[0muse_multiprocessing\u001b[0m\u001b[1;33m,\u001b[0m\u001b[1;33m\u001b[0m\u001b[1;33m\u001b[0m\u001b[0m\n\u001b[0;32m   1417\u001b[0m             \u001b[0mshuffle\u001b[0m\u001b[1;33m=\u001b[0m\u001b[0mshuffle\u001b[0m\u001b[1;33m,\u001b[0m\u001b[1;33m\u001b[0m\u001b[1;33m\u001b[0m\u001b[0m\n\u001b[1;32m-> 1418\u001b[1;33m             initial_epoch=initial_epoch)\n\u001b[0m\u001b[0;32m   1419\u001b[0m \u001b[1;33m\u001b[0m\u001b[0m\n\u001b[0;32m   1420\u001b[0m     \u001b[1;33m@\u001b[0m\u001b[0minterfaces\u001b[0m\u001b[1;33m.\u001b[0m\u001b[0mlegacy_generator_methods_support\u001b[0m\u001b[1;33m\u001b[0m\u001b[1;33m\u001b[0m\u001b[0m\n",
      "\u001b[1;32mD:\\Anaconda3\\envs\\tensorflow\\lib\\site-packages\\keras\\engine\\training_generator.py\u001b[0m in \u001b[0;36mfit_generator\u001b[1;34m(model, generator, steps_per_epoch, epochs, verbose, callbacks, validation_data, validation_steps, class_weight, max_queue_size, workers, use_multiprocessing, shuffle, initial_epoch)\u001b[0m\n\u001b[0;32m    179\u001b[0m             \u001b[0mbatch_index\u001b[0m \u001b[1;33m=\u001b[0m \u001b[1;36m0\u001b[0m\u001b[1;33m\u001b[0m\u001b[1;33m\u001b[0m\u001b[0m\n\u001b[0;32m    180\u001b[0m             \u001b[1;32mwhile\u001b[0m \u001b[0msteps_done\u001b[0m \u001b[1;33m<\u001b[0m \u001b[0msteps_per_epoch\u001b[0m\u001b[1;33m:\u001b[0m\u001b[1;33m\u001b[0m\u001b[1;33m\u001b[0m\u001b[0m\n\u001b[1;32m--> 181\u001b[1;33m                 \u001b[0mgenerator_output\u001b[0m \u001b[1;33m=\u001b[0m \u001b[0mnext\u001b[0m\u001b[1;33m(\u001b[0m\u001b[0moutput_generator\u001b[0m\u001b[1;33m)\u001b[0m\u001b[1;33m\u001b[0m\u001b[1;33m\u001b[0m\u001b[0m\n\u001b[0m\u001b[0;32m    182\u001b[0m \u001b[1;33m\u001b[0m\u001b[0m\n\u001b[0;32m    183\u001b[0m                 \u001b[1;32mif\u001b[0m \u001b[1;32mnot\u001b[0m \u001b[0mhasattr\u001b[0m\u001b[1;33m(\u001b[0m\u001b[0mgenerator_output\u001b[0m\u001b[1;33m,\u001b[0m \u001b[1;34m'__len__'\u001b[0m\u001b[1;33m)\u001b[0m\u001b[1;33m:\u001b[0m\u001b[1;33m\u001b[0m\u001b[1;33m\u001b[0m\u001b[0m\n",
      "\u001b[1;32mD:\\Anaconda3\\envs\\tensorflow\\lib\\site-packages\\keras\\utils\\data_utils.py\u001b[0m in \u001b[0;36mget\u001b[1;34m(self)\u001b[0m\n\u001b[0;32m    599\u001b[0m         \u001b[1;32mexcept\u001b[0m \u001b[0mException\u001b[0m \u001b[1;32mas\u001b[0m \u001b[0me\u001b[0m\u001b[1;33m:\u001b[0m\u001b[1;33m\u001b[0m\u001b[1;33m\u001b[0m\u001b[0m\n\u001b[0;32m    600\u001b[0m             \u001b[0mself\u001b[0m\u001b[1;33m.\u001b[0m\u001b[0mstop\u001b[0m\u001b[1;33m(\u001b[0m\u001b[1;33m)\u001b[0m\u001b[1;33m\u001b[0m\u001b[1;33m\u001b[0m\u001b[0m\n\u001b[1;32m--> 601\u001b[1;33m             \u001b[0msix\u001b[0m\u001b[1;33m.\u001b[0m\u001b[0mreraise\u001b[0m\u001b[1;33m(\u001b[0m\u001b[1;33m*\u001b[0m\u001b[0msys\u001b[0m\u001b[1;33m.\u001b[0m\u001b[0mexc_info\u001b[0m\u001b[1;33m(\u001b[0m\u001b[1;33m)\u001b[0m\u001b[1;33m)\u001b[0m\u001b[1;33m\u001b[0m\u001b[1;33m\u001b[0m\u001b[0m\n\u001b[0m\u001b[0;32m    602\u001b[0m \u001b[1;33m\u001b[0m\u001b[0m\n\u001b[0;32m    603\u001b[0m \u001b[1;33m\u001b[0m\u001b[0m\n",
      "\u001b[1;32m~\\AppData\\Roaming\\Python\\Python36\\site-packages\\six.py\u001b[0m in \u001b[0;36mreraise\u001b[1;34m(tp, value, tb)\u001b[0m\n\u001b[0;32m    691\u001b[0m             \u001b[1;32mif\u001b[0m \u001b[0mvalue\u001b[0m\u001b[1;33m.\u001b[0m\u001b[0m__traceback__\u001b[0m \u001b[1;32mis\u001b[0m \u001b[1;32mnot\u001b[0m \u001b[0mtb\u001b[0m\u001b[1;33m:\u001b[0m\u001b[1;33m\u001b[0m\u001b[1;33m\u001b[0m\u001b[0m\n\u001b[0;32m    692\u001b[0m                 \u001b[1;32mraise\u001b[0m \u001b[0mvalue\u001b[0m\u001b[1;33m.\u001b[0m\u001b[0mwith_traceback\u001b[0m\u001b[1;33m(\u001b[0m\u001b[0mtb\u001b[0m\u001b[1;33m)\u001b[0m\u001b[1;33m\u001b[0m\u001b[1;33m\u001b[0m\u001b[0m\n\u001b[1;32m--> 693\u001b[1;33m             \u001b[1;32mraise\u001b[0m \u001b[0mvalue\u001b[0m\u001b[1;33m\u001b[0m\u001b[1;33m\u001b[0m\u001b[0m\n\u001b[0m\u001b[0;32m    694\u001b[0m         \u001b[1;32mfinally\u001b[0m\u001b[1;33m:\u001b[0m\u001b[1;33m\u001b[0m\u001b[1;33m\u001b[0m\u001b[0m\n\u001b[0;32m    695\u001b[0m             \u001b[0mvalue\u001b[0m \u001b[1;33m=\u001b[0m \u001b[1;32mNone\u001b[0m\u001b[1;33m\u001b[0m\u001b[1;33m\u001b[0m\u001b[0m\n",
      "\u001b[1;32mD:\\Anaconda3\\envs\\tensorflow\\lib\\site-packages\\keras\\utils\\data_utils.py\u001b[0m in \u001b[0;36mget\u001b[1;34m(self)\u001b[0m\n\u001b[0;32m    593\u001b[0m         \u001b[1;32mtry\u001b[0m\u001b[1;33m:\u001b[0m\u001b[1;33m\u001b[0m\u001b[1;33m\u001b[0m\u001b[0m\n\u001b[0;32m    594\u001b[0m             \u001b[1;32mwhile\u001b[0m \u001b[0mself\u001b[0m\u001b[1;33m.\u001b[0m\u001b[0mis_running\u001b[0m\u001b[1;33m(\u001b[0m\u001b[1;33m)\u001b[0m\u001b[1;33m:\u001b[0m\u001b[1;33m\u001b[0m\u001b[1;33m\u001b[0m\u001b[0m\n\u001b[1;32m--> 595\u001b[1;33m                 \u001b[0minputs\u001b[0m \u001b[1;33m=\u001b[0m \u001b[0mself\u001b[0m\u001b[1;33m.\u001b[0m\u001b[0mqueue\u001b[0m\u001b[1;33m.\u001b[0m\u001b[0mget\u001b[0m\u001b[1;33m(\u001b[0m\u001b[0mblock\u001b[0m\u001b[1;33m=\u001b[0m\u001b[1;32mTrue\u001b[0m\u001b[1;33m)\u001b[0m\u001b[1;33m.\u001b[0m\u001b[0mget\u001b[0m\u001b[1;33m(\u001b[0m\u001b[1;33m)\u001b[0m\u001b[1;33m\u001b[0m\u001b[1;33m\u001b[0m\u001b[0m\n\u001b[0m\u001b[0;32m    596\u001b[0m                 \u001b[0mself\u001b[0m\u001b[1;33m.\u001b[0m\u001b[0mqueue\u001b[0m\u001b[1;33m.\u001b[0m\u001b[0mtask_done\u001b[0m\u001b[1;33m(\u001b[0m\u001b[1;33m)\u001b[0m\u001b[1;33m\u001b[0m\u001b[1;33m\u001b[0m\u001b[0m\n\u001b[0;32m    597\u001b[0m                 \u001b[1;32mif\u001b[0m \u001b[0minputs\u001b[0m \u001b[1;32mis\u001b[0m \u001b[1;32mnot\u001b[0m \u001b[1;32mNone\u001b[0m\u001b[1;33m:\u001b[0m\u001b[1;33m\u001b[0m\u001b[1;33m\u001b[0m\u001b[0m\n",
      "\u001b[1;32mD:\\Anaconda3\\envs\\tensorflow\\lib\\multiprocessing\\pool.py\u001b[0m in \u001b[0;36mget\u001b[1;34m(self, timeout)\u001b[0m\n\u001b[0;32m    642\u001b[0m             \u001b[1;32mreturn\u001b[0m \u001b[0mself\u001b[0m\u001b[1;33m.\u001b[0m\u001b[0m_value\u001b[0m\u001b[1;33m\u001b[0m\u001b[1;33m\u001b[0m\u001b[0m\n\u001b[0;32m    643\u001b[0m         \u001b[1;32melse\u001b[0m\u001b[1;33m:\u001b[0m\u001b[1;33m\u001b[0m\u001b[1;33m\u001b[0m\u001b[0m\n\u001b[1;32m--> 644\u001b[1;33m             \u001b[1;32mraise\u001b[0m \u001b[0mself\u001b[0m\u001b[1;33m.\u001b[0m\u001b[0m_value\u001b[0m\u001b[1;33m\u001b[0m\u001b[1;33m\u001b[0m\u001b[0m\n\u001b[0m\u001b[0;32m    645\u001b[0m \u001b[1;33m\u001b[0m\u001b[0m\n\u001b[0;32m    646\u001b[0m     \u001b[1;32mdef\u001b[0m \u001b[0m_set\u001b[0m\u001b[1;33m(\u001b[0m\u001b[0mself\u001b[0m\u001b[1;33m,\u001b[0m \u001b[0mi\u001b[0m\u001b[1;33m,\u001b[0m \u001b[0mobj\u001b[0m\u001b[1;33m)\u001b[0m\u001b[1;33m:\u001b[0m\u001b[1;33m\u001b[0m\u001b[1;33m\u001b[0m\u001b[0m\n",
      "\u001b[1;32mD:\\Anaconda3\\envs\\tensorflow\\lib\\multiprocessing\\pool.py\u001b[0m in \u001b[0;36mworker\u001b[1;34m(inqueue, outqueue, initializer, initargs, maxtasks, wrap_exception)\u001b[0m\n\u001b[0;32m    117\u001b[0m         \u001b[0mjob\u001b[0m\u001b[1;33m,\u001b[0m \u001b[0mi\u001b[0m\u001b[1;33m,\u001b[0m \u001b[0mfunc\u001b[0m\u001b[1;33m,\u001b[0m \u001b[0margs\u001b[0m\u001b[1;33m,\u001b[0m \u001b[0mkwds\u001b[0m \u001b[1;33m=\u001b[0m \u001b[0mtask\u001b[0m\u001b[1;33m\u001b[0m\u001b[1;33m\u001b[0m\u001b[0m\n\u001b[0;32m    118\u001b[0m         \u001b[1;32mtry\u001b[0m\u001b[1;33m:\u001b[0m\u001b[1;33m\u001b[0m\u001b[1;33m\u001b[0m\u001b[0m\n\u001b[1;32m--> 119\u001b[1;33m             \u001b[0mresult\u001b[0m \u001b[1;33m=\u001b[0m \u001b[1;33m(\u001b[0m\u001b[1;32mTrue\u001b[0m\u001b[1;33m,\u001b[0m \u001b[0mfunc\u001b[0m\u001b[1;33m(\u001b[0m\u001b[1;33m*\u001b[0m\u001b[0margs\u001b[0m\u001b[1;33m,\u001b[0m \u001b[1;33m**\u001b[0m\u001b[0mkwds\u001b[0m\u001b[1;33m)\u001b[0m\u001b[1;33m)\u001b[0m\u001b[1;33m\u001b[0m\u001b[1;33m\u001b[0m\u001b[0m\n\u001b[0m\u001b[0;32m    120\u001b[0m         \u001b[1;32mexcept\u001b[0m \u001b[0mException\u001b[0m \u001b[1;32mas\u001b[0m \u001b[0me\u001b[0m\u001b[1;33m:\u001b[0m\u001b[1;33m\u001b[0m\u001b[1;33m\u001b[0m\u001b[0m\n\u001b[0;32m    121\u001b[0m             \u001b[1;32mif\u001b[0m \u001b[0mwrap_exception\u001b[0m \u001b[1;32mand\u001b[0m \u001b[0mfunc\u001b[0m \u001b[1;32mis\u001b[0m \u001b[1;32mnot\u001b[0m \u001b[0m_helper_reraises_exception\u001b[0m\u001b[1;33m:\u001b[0m\u001b[1;33m\u001b[0m\u001b[1;33m\u001b[0m\u001b[0m\n",
      "\u001b[1;32mD:\\Anaconda3\\envs\\tensorflow\\lib\\site-packages\\keras\\utils\\data_utils.py\u001b[0m in \u001b[0;36mget_index\u001b[1;34m(uid, i)\u001b[0m\n\u001b[0;32m    399\u001b[0m         \u001b[0mThe\u001b[0m \u001b[0mvalue\u001b[0m \u001b[0mat\u001b[0m \u001b[0mindex\u001b[0m\u001b[0;31m \u001b[0m\u001b[0;31m`\u001b[0m\u001b[0mi\u001b[0m\u001b[0;31m`\u001b[0m\u001b[1;33m.\u001b[0m\u001b[1;33m\u001b[0m\u001b[1;33m\u001b[0m\u001b[0m\n\u001b[0;32m    400\u001b[0m     \"\"\"\n\u001b[1;32m--> 401\u001b[1;33m     \u001b[1;32mreturn\u001b[0m \u001b[0m_SHARED_SEQUENCES\u001b[0m\u001b[1;33m[\u001b[0m\u001b[0muid\u001b[0m\u001b[1;33m]\u001b[0m\u001b[1;33m[\u001b[0m\u001b[0mi\u001b[0m\u001b[1;33m]\u001b[0m\u001b[1;33m\u001b[0m\u001b[1;33m\u001b[0m\u001b[0m\n\u001b[0m\u001b[0;32m    402\u001b[0m \u001b[1;33m\u001b[0m\u001b[0m\n\u001b[0;32m    403\u001b[0m \u001b[1;33m\u001b[0m\u001b[0m\n",
      "\u001b[1;32m<ipython-input-58-958891da6318>\u001b[0m in \u001b[0;36m__getitem__\u001b[1;34m(self, idx)\u001b[0m\n\u001b[0;32m     69\u001b[0m                 ])], random_order=True)\n\u001b[0;32m     70\u001b[0m \u001b[1;33m\u001b[0m\u001b[0m\n\u001b[1;32m---> 71\u001b[1;33m             \u001b[0mX\u001b[0m \u001b[1;33m=\u001b[0m \u001b[0mnp\u001b[0m\u001b[1;33m.\u001b[0m\u001b[0mconcatenate\u001b[0m\u001b[1;33m(\u001b[0m\u001b[1;33m(\u001b[0m\u001b[0mX\u001b[0m\u001b[1;33m,\u001b[0m \u001b[0mseq\u001b[0m\u001b[1;33m.\u001b[0m\u001b[0maugment_images\u001b[0m\u001b[1;33m(\u001b[0m\u001b[0mX\u001b[0m\u001b[1;33m)\u001b[0m\u001b[1;33m,\u001b[0m \u001b[0mseq\u001b[0m\u001b[1;33m.\u001b[0m\u001b[0maugment_images\u001b[0m\u001b[1;33m(\u001b[0m\u001b[0mX\u001b[0m\u001b[1;33m)\u001b[0m\u001b[1;33m,\u001b[0m \u001b[0mseq\u001b[0m\u001b[1;33m.\u001b[0m\u001b[0maugment_images\u001b[0m\u001b[1;33m(\u001b[0m\u001b[0mX\u001b[0m\u001b[1;33m)\u001b[0m\u001b[1;33m)\u001b[0m\u001b[1;33m,\u001b[0m \u001b[1;36m0\u001b[0m\u001b[1;33m)\u001b[0m\u001b[1;33m\u001b[0m\u001b[1;33m\u001b[0m\u001b[0m\n\u001b[0m\u001b[0;32m     72\u001b[0m             \u001b[0my\u001b[0m \u001b[1;33m=\u001b[0m \u001b[0mnp\u001b[0m\u001b[1;33m.\u001b[0m\u001b[0mconcatenate\u001b[0m\u001b[1;33m(\u001b[0m\u001b[1;33m(\u001b[0m\u001b[0my\u001b[0m\u001b[1;33m,\u001b[0m \u001b[0my\u001b[0m\u001b[1;33m,\u001b[0m \u001b[0my\u001b[0m\u001b[1;33m,\u001b[0m \u001b[0my\u001b[0m\u001b[1;33m)\u001b[0m\u001b[1;33m,\u001b[0m \u001b[1;36m0\u001b[0m\u001b[1;33m)\u001b[0m\u001b[1;33m\u001b[0m\u001b[1;33m\u001b[0m\u001b[0m\n\u001b[0;32m     73\u001b[0m \u001b[1;33m\u001b[0m\u001b[0m\n",
      "\u001b[1;32mD:\\Anaconda3\\envs\\tensorflow\\lib\\site-packages\\imgaug\\augmenters\\meta.py\u001b[0m in \u001b[0;36maugment_images\u001b[1;34m(self, images, parents, hooks)\u001b[0m\n\u001b[0;32m    601\u001b[0m                     \u001b[0mrandom_state\u001b[0m\u001b[1;33m=\u001b[0m\u001b[0mia\u001b[0m\u001b[1;33m.\u001b[0m\u001b[0mcopy_random_state\u001b[0m\u001b[1;33m(\u001b[0m\u001b[0mself\u001b[0m\u001b[1;33m.\u001b[0m\u001b[0mrandom_state\u001b[0m\u001b[1;33m)\u001b[0m\u001b[1;33m,\u001b[0m\u001b[1;33m\u001b[0m\u001b[1;33m\u001b[0m\u001b[0m\n\u001b[0;32m    602\u001b[0m                     \u001b[0mparents\u001b[0m\u001b[1;33m=\u001b[0m\u001b[0mparents\u001b[0m\u001b[1;33m,\u001b[0m\u001b[1;33m\u001b[0m\u001b[1;33m\u001b[0m\u001b[0m\n\u001b[1;32m--> 603\u001b[1;33m                     \u001b[0mhooks\u001b[0m\u001b[1;33m=\u001b[0m\u001b[0mhooks\u001b[0m\u001b[1;33m\u001b[0m\u001b[1;33m\u001b[0m\u001b[0m\n\u001b[0m\u001b[0;32m    604\u001b[0m                 )\n\u001b[0;32m    605\u001b[0m                 \u001b[1;31m# move \"forward\" the random state, so that the next call to\u001b[0m\u001b[1;33m\u001b[0m\u001b[1;33m\u001b[0m\u001b[1;33m\u001b[0m\u001b[0m\n",
      "\u001b[1;32mD:\\Anaconda3\\envs\\tensorflow\\lib\\site-packages\\imgaug\\augmenters\\meta.py\u001b[0m in \u001b[0;36m_augment_images\u001b[1;34m(self, images, random_state, parents, hooks)\u001b[0m\n\u001b[0;32m   2814\u001b[0m                         \u001b[0mimages\u001b[0m\u001b[1;33m=\u001b[0m\u001b[0mimages\u001b[0m\u001b[1;33m,\u001b[0m\u001b[1;33m\u001b[0m\u001b[1;33m\u001b[0m\u001b[0m\n\u001b[0;32m   2815\u001b[0m                         \u001b[0mparents\u001b[0m\u001b[1;33m=\u001b[0m\u001b[0mparents\u001b[0m \u001b[1;33m+\u001b[0m \u001b[1;33m[\u001b[0m\u001b[0mself\u001b[0m\u001b[1;33m]\u001b[0m\u001b[1;33m,\u001b[0m\u001b[1;33m\u001b[0m\u001b[1;33m\u001b[0m\u001b[0m\n\u001b[1;32m-> 2816\u001b[1;33m                         \u001b[0mhooks\u001b[0m\u001b[1;33m=\u001b[0m\u001b[0mhooks\u001b[0m\u001b[1;33m\u001b[0m\u001b[1;33m\u001b[0m\u001b[0m\n\u001b[0m\u001b[0;32m   2817\u001b[0m                     )\n\u001b[0;32m   2818\u001b[0m             \u001b[1;32melse\u001b[0m\u001b[1;33m:\u001b[0m\u001b[1;33m\u001b[0m\u001b[1;33m\u001b[0m\u001b[0m\n",
      "\u001b[1;32mD:\\Anaconda3\\envs\\tensorflow\\lib\\site-packages\\imgaug\\augmenters\\meta.py\u001b[0m in \u001b[0;36maugment_images\u001b[1;34m(self, images, parents, hooks)\u001b[0m\n\u001b[0;32m    513\u001b[0m                 \u001b[0mrandom_state\u001b[0m\u001b[1;33m=\u001b[0m\u001b[0mia\u001b[0m\u001b[1;33m.\u001b[0m\u001b[0mcopy_random_state\u001b[0m\u001b[1;33m(\u001b[0m\u001b[0mself\u001b[0m\u001b[1;33m.\u001b[0m\u001b[0mrandom_state\u001b[0m\u001b[1;33m)\u001b[0m\u001b[1;33m,\u001b[0m\u001b[1;33m\u001b[0m\u001b[1;33m\u001b[0m\u001b[0m\n\u001b[0;32m    514\u001b[0m                 \u001b[0mparents\u001b[0m\u001b[1;33m=\u001b[0m\u001b[0mparents\u001b[0m\u001b[1;33m,\u001b[0m\u001b[1;33m\u001b[0m\u001b[1;33m\u001b[0m\u001b[0m\n\u001b[1;32m--> 515\u001b[1;33m                 \u001b[0mhooks\u001b[0m\u001b[1;33m=\u001b[0m\u001b[0mhooks\u001b[0m\u001b[1;33m\u001b[0m\u001b[1;33m\u001b[0m\u001b[0m\n\u001b[0m\u001b[0;32m    516\u001b[0m             )\n\u001b[0;32m    517\u001b[0m             \u001b[1;31m# move \"forward\" the random state, so that the next call to\u001b[0m\u001b[1;33m\u001b[0m\u001b[1;33m\u001b[0m\u001b[1;33m\u001b[0m\u001b[0m\n",
      "\u001b[1;32mD:\\Anaconda3\\envs\\tensorflow\\lib\\site-packages\\imgaug\\augmenters\\meta.py\u001b[0m in \u001b[0;36m_augment_images\u001b[1;34m(self, images, random_state, parents, hooks)\u001b[0m\n\u001b[0;32m   3116\u001b[0m                         \u001b[0mimages\u001b[0m\u001b[1;33m=\u001b[0m\u001b[0mimages_to_aug\u001b[0m\u001b[1;33m,\u001b[0m\u001b[1;33m\u001b[0m\u001b[1;33m\u001b[0m\u001b[0m\n\u001b[0;32m   3117\u001b[0m                         \u001b[0mparents\u001b[0m\u001b[1;33m=\u001b[0m\u001b[0mparents\u001b[0m \u001b[1;33m+\u001b[0m \u001b[1;33m[\u001b[0m\u001b[0mself\u001b[0m\u001b[1;33m]\u001b[0m\u001b[1;33m,\u001b[0m\u001b[1;33m\u001b[0m\u001b[1;33m\u001b[0m\u001b[0m\n\u001b[1;32m-> 3118\u001b[1;33m                         \u001b[0mhooks\u001b[0m\u001b[1;33m=\u001b[0m\u001b[0mhooks\u001b[0m\u001b[1;33m\u001b[0m\u001b[1;33m\u001b[0m\u001b[0m\n\u001b[0m\u001b[0;32m   3119\u001b[0m                     )\n\u001b[0;32m   3120\u001b[0m                     \u001b[0moutput_is_array\u001b[0m \u001b[1;33m=\u001b[0m \u001b[0mia\u001b[0m\u001b[1;33m.\u001b[0m\u001b[0mis_np_array\u001b[0m\u001b[1;33m(\u001b[0m\u001b[0mimages_to_aug\u001b[0m\u001b[1;33m)\u001b[0m\u001b[1;33m\u001b[0m\u001b[1;33m\u001b[0m\u001b[0m\n",
      "\u001b[1;32mD:\\Anaconda3\\envs\\tensorflow\\lib\\site-packages\\imgaug\\augmenters\\meta.py\u001b[0m in \u001b[0;36maugment_images\u001b[1;34m(self, images, parents, hooks)\u001b[0m\n\u001b[0;32m    513\u001b[0m                 \u001b[0mrandom_state\u001b[0m\u001b[1;33m=\u001b[0m\u001b[0mia\u001b[0m\u001b[1;33m.\u001b[0m\u001b[0mcopy_random_state\u001b[0m\u001b[1;33m(\u001b[0m\u001b[0mself\u001b[0m\u001b[1;33m.\u001b[0m\u001b[0mrandom_state\u001b[0m\u001b[1;33m)\u001b[0m\u001b[1;33m,\u001b[0m\u001b[1;33m\u001b[0m\u001b[1;33m\u001b[0m\u001b[0m\n\u001b[0;32m    514\u001b[0m                 \u001b[0mparents\u001b[0m\u001b[1;33m=\u001b[0m\u001b[0mparents\u001b[0m\u001b[1;33m,\u001b[0m\u001b[1;33m\u001b[0m\u001b[1;33m\u001b[0m\u001b[0m\n\u001b[1;32m--> 515\u001b[1;33m                 \u001b[0mhooks\u001b[0m\u001b[1;33m=\u001b[0m\u001b[0mhooks\u001b[0m\u001b[1;33m\u001b[0m\u001b[1;33m\u001b[0m\u001b[0m\n\u001b[0m\u001b[0;32m    516\u001b[0m             )\n\u001b[0;32m    517\u001b[0m             \u001b[1;31m# move \"forward\" the random state, so that the next call to\u001b[0m\u001b[1;33m\u001b[0m\u001b[1;33m\u001b[0m\u001b[1;33m\u001b[0m\u001b[0m\n",
      "\u001b[1;32mD:\\Anaconda3\\envs\\tensorflow\\lib\\site-packages\\imgaug\\augmenters\\arithmetic.py\u001b[0m in \u001b[0;36m_augment_images\u001b[1;34m(self, images, random_state, parents, hooks)\u001b[0m\n\u001b[0;32m    305\u001b[0m                          disallowed=[\"uint32\", \"uint64\", \"uint128\", \"uint256\", \"int32\", \"int64\", \"int128\", \"int256\",\n\u001b[0;32m    306\u001b[0m                                      \"float64\", \"float96\", \"float128\", \"float256\"],\n\u001b[1;32m--> 307\u001b[1;33m                          augmenter=self)\n\u001b[0m\u001b[0;32m    308\u001b[0m \u001b[1;33m\u001b[0m\u001b[0m\n\u001b[0;32m    309\u001b[0m         \u001b[0minput_dtypes\u001b[0m \u001b[1;33m=\u001b[0m \u001b[0miadt\u001b[0m\u001b[1;33m.\u001b[0m\u001b[0mcopy_dtypes_for_restore\u001b[0m\u001b[1;33m(\u001b[0m\u001b[0mimages\u001b[0m\u001b[1;33m,\u001b[0m \u001b[0mforce_list\u001b[0m\u001b[1;33m=\u001b[0m\u001b[1;32mTrue\u001b[0m\u001b[1;33m)\u001b[0m\u001b[1;33m\u001b[0m\u001b[1;33m\u001b[0m\u001b[0m\n",
      "\u001b[1;32mD:\\Anaconda3\\envs\\tensorflow\\lib\\site-packages\\imgaug\\dtypes.py\u001b[0m in \u001b[0;36mgate_dtypes\u001b[1;34m(dtypes, allowed, disallowed, augmenter)\u001b[0m\n\u001b[0;32m    251\u001b[0m             \u001b[1;32melse\u001b[0m\u001b[1;33m:\u001b[0m\u001b[1;33m\u001b[0m\u001b[1;33m\u001b[0m\u001b[0m\n\u001b[0;32m    252\u001b[0m                 raise ValueError(\"Got dtype '%s' in augmenter '%s' (class '%s'), which is a forbidden dtype (%s).\" % (\n\u001b[1;32m--> 253\u001b[1;33m                     \u001b[0mdtype\u001b[0m\u001b[1;33m.\u001b[0m\u001b[0mname\u001b[0m\u001b[1;33m,\u001b[0m \u001b[0maugmenter\u001b[0m\u001b[1;33m.\u001b[0m\u001b[0mname\u001b[0m\u001b[1;33m,\u001b[0m \u001b[0maugmenter\u001b[0m\u001b[1;33m.\u001b[0m\u001b[0m__class__\u001b[0m\u001b[1;33m.\u001b[0m\u001b[0m__name__\u001b[0m\u001b[1;33m,\u001b[0m \u001b[1;34m\", \"\u001b[0m\u001b[1;33m.\u001b[0m\u001b[0mjoin\u001b[0m\u001b[1;33m(\u001b[0m\u001b[0mdisallowed\u001b[0m\u001b[1;33m)\u001b[0m\u001b[1;33m\u001b[0m\u001b[1;33m\u001b[0m\u001b[0m\n\u001b[0m\u001b[0;32m    254\u001b[0m                 ))\n\u001b[0;32m    255\u001b[0m         \u001b[1;32melse\u001b[0m\u001b[1;33m:\u001b[0m\u001b[1;33m\u001b[0m\u001b[1;33m\u001b[0m\u001b[0m\n",
      "\u001b[1;31mValueError\u001b[0m: Got dtype 'float64' in augmenter 'UnnamedAdditiveGaussianNoise' (class 'AddElementwise'), which is a forbidden dtype (uint32, uint64, uint128, uint256, int32, int64, int128, int256, float64, float96, float128, float256)."
     ]
    }
   ],
   "source": [
    "%%time\n",
    "# Train the model\n",
    "\n",
    "history = model.fit_generator(\n",
    "                train_datagen,\n",
    "                #steps_per_epoch = len(train_datagen),\n",
    "                epochs = EPOCHS,\n",
    "                validation_data = val_datagen,\n",
    "                #validation_steps = len(val_datagen),\n",
    "                callbacks = callbacks,\n",
    "                workers=3,\n",
    "                max_queue_size=10,\n",
    "                )"
   ]
  },
  {
   "cell_type": "code",
   "execution_count": null,
   "metadata": {},
   "outputs": [],
   "source": [
    "# Save model\n",
    "model.save('./model/protein_CNN_valloss.h5')"
   ]
  },
  {
   "cell_type": "code",
   "execution_count": 26,
   "metadata": {},
   "outputs": [
    {
     "name": "stdout",
     "output_type": "stream",
     "text": [
      "dict_keys(['val_loss', 'val_acc', 'val_f1', 'loss', 'acc', 'f1', 'lr'])\n"
     ]
    }
   ],
   "source": [
    "print(history.history.keys())"
   ]
  },
  {
   "cell_type": "markdown",
   "metadata": {},
   "source": [
    "# Model Evaluation"
   ]
  },
  {
   "cell_type": "markdown",
   "metadata": {},
   "source": [
    "## 1) Plot learning rate, loss, f1, acc"
   ]
  },
  {
   "cell_type": "code",
   "execution_count": 113,
   "metadata": {},
   "outputs": [],
   "source": [
    "def show_history(history):\n",
    "    fig, ax = plt.subplots(1, 4, figsize=(15,5))\n",
    "    ax[0].set_title('learning rate')\n",
    "    ax[0].plot(history.epoch, history.history[\"lr\"], label=\"lr\")\n",
    "    #ax[0].xlabel('Epoch')\n",
    "    #ax[0].ylabel('Learning Rate')\n",
    "\n",
    "    ax[1].set_title('loss')\n",
    "    ax[1].plot(history.epoch, history.history[\"loss\"], label=\"Train loss\")\n",
    "    ax[1].plot(history.epoch, history.history[\"val_loss\"], label=\"Validation loss\")\n",
    "    \n",
    "    ax[2].set_title('f1')\n",
    "    ax[2].plot(history.epoch, history.history[\"f1\"], label=\"Train f1\")\n",
    "    ax[2].plot(history.epoch, history.history[\"val_f1\"], label=\"Validation f1\")\n",
    "    \n",
    "    ax[3].set_title('acc')\n",
    "    ax[3].plot(history.epoch, history.history[\"acc\"], label=\"Train acc\")\n",
    "    ax[3].plot(history.epoch, history.history[\"val_acc\"], label=\"Validation acc\")\n",
    "    \n",
    "    ax[0].legend()\n",
    "    ax[1].legend()\n",
    "    ax[2].legend()\n",
    "    ax[3].legend()"
   ]
  },
  {
   "cell_type": "code",
   "execution_count": 28,
   "metadata": {},
   "outputs": [
    {
     "data": {
      "image/png": "[encoded data removed]",
      "text/plain": [
       "<Figure size 1080x360 with 4 Axes>"
      ]
     },
     "metadata": {
      "needs_background": "light"
     },
     "output_type": "display_data"
    }
   ],
   "source": [
    "show_history(history)"
   ]
  },
  {
   "cell_type": "markdown",
   "metadata": {},
   "source": [
    "## 2) Loss and dice_coef (val)"
   ]
  },
  {
   "cell_type": "code",
   "execution_count": 22,
   "metadata": {},
   "outputs": [
    {
     "name": "stdout",
     "output_type": "stream",
     "text": [
      "loss: 0.09621999661305311\n",
      "metric (acc): 0.9662904177429764\n",
      "metric (f1): 0.24671557249982826\n",
      "Wall time: 36.8 s\n"
     ]
    }
   ],
   "source": [
    "%%time\n",
    "\n",
    "# val_datagen.reset()\n",
    "# score = model.evaluate(x_val, y_val)\n",
    "score = model.evaluate_generator(val_datagen, \n",
    "                                 #steps = validation_steps\n",
    "                                )\n",
    "print(\"loss:\", score[0])\n",
    "print(\"metric (acc):\", score[1])\n",
    "print(\"metric (f1):\", score[2])"
   ]
  },
  {
   "cell_type": "markdown",
   "metadata": {},
   "source": [
    "## 3) Confusion Matrix"
   ]
  },
  {
   "cell_type": "code",
   "execution_count": 24,
   "metadata": {},
   "outputs": [
    {
     "name": "stdout",
     "output_type": "stream",
     "text": [
      "Wall time: 37.2 s\n"
     ]
    }
   ],
   "source": [
    "%%time\n",
    "\n",
    "# validation_generator.reset()\n",
    "# y_val_pred = model.predict_classes(x_val)\n",
    "y_val_pred_prob = model.predict_generator(val_datagen, \n",
    "                                          #steps = validation_steps\n",
    "                                         )"
   ]
  },
  {
   "cell_type": "code",
   "execution_count": 25,
   "metadata": {},
   "outputs": [
    {
     "name": "stdout",
     "output_type": "stream",
     "text": [
      "y_val_pred_prob.shape: (2797, 28)\n"
     ]
    },
    {
     "data": {
      "text/plain": [
       "array([[1.6581267e-02, 4.8819184e-04, 6.1422586e-04, ..., 1.3841271e-02,\n",
       "        2.2217631e-04, 2.9802322e-04],\n",
       "       [5.7484329e-01, 3.7809312e-03, 5.7569891e-02, ..., 2.8030449e-01,\n",
       "        4.0609121e-02, 8.1360340e-05],\n",
       "       [4.2396417e-01, 8.8948011e-04, 6.7025721e-03, ..., 8.2361460e-02,\n",
       "        1.3199598e-02, 3.4302473e-04],\n",
       "       ...,\n",
       "       [2.0655990e-02, 1.8456578e-04, 8.9472532e-04, ..., 6.7192912e-03,\n",
       "        2.6375055e-05, 1.4793873e-04],\n",
       "       [2.3418322e-01, 7.5241327e-03, 9.1674924e-02, ..., 1.7903161e-01,\n",
       "        8.8711590e-02, 3.3754110e-04],\n",
       "       [3.6439750e-01, 1.4543533e-05, 1.8155575e-04, ..., 3.1420588e-04,\n",
       "        0.0000000e+00, 0.0000000e+00]], dtype=float32)"
      ]
     },
     "execution_count": 25,
     "metadata": {},
     "output_type": "execute_result"
    }
   ],
   "source": [
    "print('y_val_pred_prob.shape:', y_val_pred_prob.shape)\n",
    "y_val_pred_prob"
   ]
  },
  {
   "cell_type": "code",
   "execution_count": 26,
   "metadata": {},
   "outputs": [
    {
     "data": {
      "text/plain": [
       "array([[0, 0, 0, ..., 0, 0, 0],\n",
       "       [1, 0, 0, ..., 0, 0, 0],\n",
       "       [0, 0, 0, ..., 0, 0, 0],\n",
       "       ...,\n",
       "       [0, 0, 0, ..., 0, 0, 0],\n",
       "       [0, 0, 0, ..., 0, 0, 0],\n",
       "       [0, 0, 0, ..., 0, 0, 0]], dtype=uint8)"
      ]
     },
     "execution_count": 26,
     "metadata": {},
     "output_type": "execute_result"
    }
   ],
   "source": [
    "y_val_pred = (y_val_pred_prob > 0.5).astype(np.uint8)\n",
    "y_val_pred"
   ]
  },
  {
   "cell_type": "code",
   "execution_count": 71,
   "metadata": {},
   "outputs": [],
   "source": [
    "import itertools\n",
    "import matplotlib.pyplot as plt\n",
    "\n",
    "def confusion_matrix(y_true, y_pred, labels):\n",
    "    instcount = y_true.shape[0]\n",
    "    n_classes = len(labels)\n",
    "    fp = ((y_true - y_pred) < 0).sum(axis = 0)\n",
    "    fn = ((y_true - y_pred) > 0).sum(axis = 0)\n",
    "    tp = (y_true*y_pred).sum(axis = 0)\n",
    "    tn = ((y_true==0)*(y_pred==0)).sum(axis = 0)\n",
    "    mtx = np.vstack([tp/(tp + fn), fn/(tp + fn), tn/(tn + fp), fp/(tn + fp)]).T\n",
    "    plt.figure(num=None, figsize=(5, 15), dpi=100, facecolor='w', edgecolor='k')\n",
    "    plt.imshow(mtx, interpolation='nearest',cmap='Blues')\n",
    "    plt.title(\"Confusion matrix\")\n",
    "    tick_marks = np.arange(n_classes)\n",
    "    plt.xticks(np.arange(4), ['1 - 1','1 - 0','0 - 0','0 - 1'])\n",
    "    plt.yticks(tick_marks, labels)\n",
    "    for i, j in itertools.product(range(n_classes), range(4)):\n",
    "        plt.text(j, i, round(mtx[i][j],2), horizontalalignment=\"center\")\n",
    "\n",
    "    plt.ylabel('labels')\n",
    "    plt.xlabel('True-Predicted')\n",
    "    plt.show()"
   ]
  },
  {
   "cell_type": "code",
   "execution_count": 72,
   "metadata": {},
   "outputs": [],
   "source": [
    "labels  = ['0','1','2','3','4','5','6','7','8','9',\n",
    "           '10','11','12','13','14','15','16','17','18','19',\n",
    "           '20','21','22','23','24','25','26','27']"
   ]
  },
  {
   "cell_type": "code",
   "execution_count": 73,
   "metadata": {},
   "outputs": [
    {
     "data": {
      "image/png": "[encoded data removed]",
      "text/plain": [
       "<Figure size 500x1500 with 1 Axes>"
      ]
     },
     "metadata": {},
     "output_type": "display_data"
    }
   ],
   "source": [
    "confusion_matrix(labels_val, y_val_pred, labels)"
   ]
  },
  {
   "cell_type": "markdown",
   "metadata": {},
   "source": [
    "## 4) Miss-Classification table"
   ]
  },
  {
   "cell_type": "code",
   "execution_count": 84,
   "metadata": {},
   "outputs": [],
   "source": [
    "def miss_classification(y_true, y_pred, classes, percent=False, multi_label=True):\n",
    "    '''\n",
    "    Params:\n",
    "        y_true, y_pred : binary numpy array\n",
    "        classes : list of names classes\n",
    "        percent : display persent of miss classification\n",
    "        multi_label : target can have multy labels\n",
    "    '''\n",
    "\n",
    "    n_classes = len(classes)\n",
    "    fp = ((y_true - y_pred) < 0).astype('int')\n",
    "    fn = ((y_true - y_pred) > 0).astype('int')\n",
    "    mtc = (fn.T @ fp)\n",
    "    if multi_label:\n",
    "        mtc = np.hstack([mtc, (fp.sum(axis = 0) - mtc.sum(axis = 0)).clip(0)[:,None]])\n",
    "        classes.append('As extra class')\n",
    "    if percent:\n",
    "        mtc = (mtc / mtc.sum(axis = 1)[:,None])\n",
    "        mtc = np.nan_to_num(mtc).clip(0,1) * 100\n",
    "        \n",
    "    plt.figure(num=None, figsize=(10.5, 10.5), dpi=100, facecolor='w', edgecolor='k')\n",
    "    plt.imshow(mtc, interpolation='nearest',cmap='Blues')\n",
    "    plt.title(\"Miss-Classification table\")\n",
    "\n",
    "    plt.xticks(np.arange(mtc.shape[1]), classes, rotation=90)\n",
    "    plt.yticks(np.arange(mtc.shape[0]), classes, rotation=0)\n",
    "    \n",
    "    for i in range(mtc.shape[0]):\n",
    "        for j in range(mtc.shape[1]):\n",
    "            plt.text(j, i, int(mtc[i][j]), horizontalalignment=\"center\")\n",
    "    plt.ylabel('True labels')\n",
    "    plt.xlabel('Predicted Miss labeled')\n",
    "    plt.show()"
   ]
  },
  {
   "cell_type": "code",
   "execution_count": 85,
   "metadata": {},
   "outputs": [
    {
     "data": {
      "image/png": "[encoded data removed]",
      "text/plain": [
       "<Figure size 1050x1050 with 1 Axes>"
      ]
     },
     "metadata": {},
     "output_type": "display_data"
    }
   ],
   "source": [
    "miss_classification(labels_val, y_val_pred, labels, percent=True)"
   ]
  },
  {
   "cell_type": "markdown",
   "metadata": {},
   "source": [
    "# Prediction"
   ]
  },
  {
   "cell_type": "markdown",
   "metadata": {},
   "source": [
    "## Test Data Generator"
   ]
  },
  {
   "cell_type": "code",
   "execution_count": 91,
   "metadata": {},
   "outputs": [
    {
     "name": "stdout",
     "output_type": "stream",
     "text": [
      "paths_test.shape: (11702,)\n",
      "labels_test.shape: (11702, 28)\n"
     ]
    }
   ],
   "source": [
    "# Get test dataset\n",
    "paths_test, labels_test = getTestDataset()\n",
    "print('paths_test.shape:', paths_test.shape)\n",
    "print('labels_test.shape:', labels_test.shape)"
   ]
  },
  {
   "cell_type": "code",
   "execution_count": 92,
   "metadata": {},
   "outputs": [
    {
     "name": "stdout",
     "output_type": "stream",
     "text": [
      "test_steps: 366\n"
     ]
    }
   ],
   "source": [
    "# Create test data generator\n",
    "test_datagen = ProteinDataGenerator(\n",
    "    paths  = paths_test, \n",
    "    labels = labels_test, \n",
    "    batch_size = BATCH_SIZE, \n",
    "    shape = INPUT_SHAPE, \n",
    "    use_cache = False, \n",
    "    shuffle = False)\n",
    "print('test_steps:', len(test_datagen))"
   ]
  },
  {
   "cell_type": "code",
   "execution_count": 88,
   "metadata": {},
   "outputs": [
    {
     "name": "stdout",
     "output_type": "stream",
     "text": [
      "Wall time: 3min 16s\n"
     ]
    }
   ],
   "source": [
    "%%time\n",
    "\n",
    "# test_datagen.reset()\n",
    "y_test_pred_prob = model.predict_generator(test_datagen,\n",
    "                                           #steps = test_steps\n",
    "                                          )"
   ]
  },
  {
   "cell_type": "code",
   "execution_count": 89,
   "metadata": {},
   "outputs": [
    {
     "name": "stdout",
     "output_type": "stream",
     "text": [
      "y_test_pred_prob.shape: (11702, 28)\n"
     ]
    },
    {
     "data": {
      "text/plain": [
       "array([[4.7791988e-02, 8.0725551e-04, 9.9065471e-01, ..., 2.3455620e-02,\n",
       "        1.0240972e-03, 2.9802322e-08],\n",
       "       [5.3985029e-02, 1.3032794e-02, 1.0342598e-02, ..., 2.4962270e-01,\n",
       "        2.3871452e-02, 3.9830804e-04],\n",
       "       [9.2809737e-01, 7.0786476e-04, 7.6890886e-03, ..., 7.7509648e-01,\n",
       "        3.5166144e-03, 2.7716160e-06],\n",
       "       ...,\n",
       "       [1.3365093e-01, 5.6633353e-03, 5.8998764e-03, ..., 1.5454674e-01,\n",
       "        4.5829266e-02, 6.4182281e-04],\n",
       "       [1.3622925e-01, 9.5943511e-01, 2.0140618e-02, ..., 7.5668126e-02,\n",
       "        8.6678565e-03, 7.4505806e-06],\n",
       "       [6.9995236e-01, 2.3684502e-03, 6.8182230e-02, ..., 6.7337066e-01,\n",
       "        6.9857836e-03, 3.9041042e-06]], dtype=float32)"
      ]
     },
     "execution_count": 89,
     "metadata": {},
     "output_type": "execute_result"
    }
   ],
   "source": [
    "print('y_test_pred_prob.shape:', y_test_pred_prob.shape)\n",
    "y_test_pred_prob"
   ]
  },
  {
   "cell_type": "code",
   "execution_count": 90,
   "metadata": {},
   "outputs": [
    {
     "data": {
      "text/plain": [
       "array([[0, 0, 1, ..., 0, 0, 0],\n",
       "       [0, 0, 0, ..., 0, 0, 0],\n",
       "       [1, 0, 0, ..., 1, 0, 0],\n",
       "       ...,\n",
       "       [0, 0, 0, ..., 0, 0, 0],\n",
       "       [0, 1, 0, ..., 0, 0, 0],\n",
       "       [1, 0, 0, ..., 1, 0, 0]], dtype=uint8)"
      ]
     },
     "execution_count": 90,
     "metadata": {},
     "output_type": "execute_result"
    }
   ],
   "source": [
    "y_test_pred = (y_test_pred_prob > 0.5).astype(np.uint8)\n",
    "y_test_pred"
   ]
  },
  {
   "cell_type": "markdown",
   "metadata": {},
   "source": [
    "# Submission"
   ]
  },
  {
   "cell_type": "code",
   "execution_count": 86,
   "metadata": {},
   "outputs": [
    {
     "name": "stdout",
     "output_type": "stream",
     "text": [
      "sample_submission.shape: (11702, 2)\n"
     ]
    },
    {
     "data": {
      "text/html": [
       "<div>\n",
       "<style scoped>\n",
       "    .dataframe tbody tr th:only-of-type {\n",
       "        vertical-align: middle;\n",
       "    }\n",
       "\n",
       "    .dataframe tbody tr th {\n",
       "        vertical-align: top;\n",
       "    }\n",
       "\n",
       "    .dataframe thead th {\n",
       "        text-align: right;\n",
       "    }\n",
       "</style>\n",
       "<table border=\"1\" class=\"dataframe\">\n",
       "  <thead>\n",
       "    <tr style=\"text-align: right;\">\n",
       "      <th></th>\n",
       "      <th>Id</th>\n",
       "      <th>Predicted</th>\n",
       "    </tr>\n",
       "  </thead>\n",
       "  <tbody>\n",
       "    <tr>\n",
       "      <th>0</th>\n",
       "      <td>00008af0-bad0-11e8-b2b8-ac1f6b6435d0</td>\n",
       "      <td>0</td>\n",
       "    </tr>\n",
       "    <tr>\n",
       "      <th>1</th>\n",
       "      <td>0000a892-bacf-11e8-b2b8-ac1f6b6435d0</td>\n",
       "      <td>0</td>\n",
       "    </tr>\n",
       "    <tr>\n",
       "      <th>2</th>\n",
       "      <td>0006faa6-bac7-11e8-b2b7-ac1f6b6435d0</td>\n",
       "      <td>0</td>\n",
       "    </tr>\n",
       "    <tr>\n",
       "      <th>3</th>\n",
       "      <td>0008baca-bad7-11e8-b2b9-ac1f6b6435d0</td>\n",
       "      <td>0</td>\n",
       "    </tr>\n",
       "    <tr>\n",
       "      <th>4</th>\n",
       "      <td>000cce7e-bad4-11e8-b2b8-ac1f6b6435d0</td>\n",
       "      <td>0</td>\n",
       "    </tr>\n",
       "  </tbody>\n",
       "</table>\n",
       "</div>"
      ],
      "text/plain": [
       "                                     Id  Predicted\n",
       "0  00008af0-bad0-11e8-b2b8-ac1f6b6435d0          0\n",
       "1  0000a892-bacf-11e8-b2b8-ac1f6b6435d0          0\n",
       "2  0006faa6-bac7-11e8-b2b7-ac1f6b6435d0          0\n",
       "3  0008baca-bad7-11e8-b2b9-ac1f6b6435d0          0\n",
       "4  000cce7e-bad4-11e8-b2b8-ac1f6b6435d0          0"
      ]
     },
     "execution_count": 86,
     "metadata": {},
     "output_type": "execute_result"
    }
   ],
   "source": [
    "print('sample_submission.shape:', sample_submission.shape)\n",
    "sample_submission.head()"
   ]
  },
  {
   "cell_type": "code",
   "execution_count": 98,
   "metadata": {},
   "outputs": [
    {
     "data": {
      "text/plain": [
       "(11702, 28)"
      ]
     },
     "execution_count": 98,
     "metadata": {},
     "output_type": "execute_result"
    }
   ],
   "source": [
    "y_test_pred.shape"
   ]
  },
  {
   "cell_type": "code",
   "execution_count": 99,
   "metadata": {},
   "outputs": [],
   "source": [
    "prediction = []\n",
    "\n",
    "for row in range(sample_submission.shape[0]):\n",
    "    \n",
    "    str_label = ''\n",
    "    \n",
    "    for col in range(y_test_pred.shape[1]):\n",
    "        if(y_test_pred[row, col] == 1):\n",
    "            str_label += str(col) + ' '\n",
    "\n",
    "    prediction.append(str_label.strip())\n",
    "\n",
    "prediction = np.array(prediction)"
   ]
  },
  {
   "cell_type": "code",
   "execution_count": 103,
   "metadata": {},
   "outputs": [
    {
     "name": "stdout",
     "output_type": "stream",
     "text": [
      "prediction.shape: (11702,)\n"
     ]
    },
    {
     "data": {
      "text/plain": [
       "array(['2', '5', '0 25', ..., '', '1', '0 25'], dtype='<U9')"
      ]
     },
     "execution_count": 103,
     "metadata": {},
     "output_type": "execute_result"
    }
   ],
   "source": [
    "print('prediction.shape:', prediction.shape)\n",
    "prediction"
   ]
  },
  {
   "cell_type": "code",
   "execution_count": 106,
   "metadata": {},
   "outputs": [],
   "source": [
    "sample_submission['Predicted'] = prediction\n",
    "sample_submission.to_csv('./output/submission_protein.csv', index=False)"
   ]
  },
  {
   "cell_type": "markdown",
   "metadata": {},
   "source": [
    "# Plot Model png"
   ]
  },
  {
   "cell_type": "code",
   "execution_count": 105,
   "metadata": {},
   "outputs": [
    {
     "data": {
      "image/svg+xml": [
       "<svg height=\"2965pt\" viewBox=\"0.00 0.00 570.00 2965.00\" width=\"570pt\" xmlns=\"http://www.w3.org/2000/svg\" xmlns:xlink=\"http://www.w3.org/1999/xlink\">\n",
       "<g class=\"graph\" id=\"graph0\" transform=\"scale(1 1) rotate(0) translate(4 2961)\">\n",
       "<title>G</title>\n",
       "<polygon fill=\"white\" points=\"-4,4 -4,-2961 566,-2961 566,4 -4,4\" stroke=\"none\"/>\n",
       "<!-- 360006432 -->\n",
       "<g class=\"node\" id=\"node1\"><title>360006432</title>\n",
       "<polygon fill=\"none\" points=\"217.5,-2920.5 217.5,-2956.5 343.5,-2956.5 343.5,-2920.5 217.5,-2920.5\" stroke=\"black\"/>\n",
       "<text font-family=\"Times New Roman,serif\" font-size=\"14.00\" text-anchor=\"middle\" x=\"280.5\" y=\"-2934.8\">input_1: InputLayer</text>\n",
       "</g>\n",
       "<!-- 345735240 -->\n",
       "<g class=\"node\" id=\"node2\"><title>345735240</title>\n",
       "<polygon fill=\"none\" points=\"217,-2847.5 217,-2883.5 344,-2883.5 344,-2847.5 217,-2847.5\" stroke=\"black\"/>\n",
       "<text font-family=\"Times New Roman,serif\" font-size=\"14.00\" text-anchor=\"middle\" x=\"280.5\" y=\"-2861.8\">conv2d_1: Conv2D</text>\n",
       "</g>\n",
       "<!-- 360006432&#45;&gt;345735240 -->\n",
       "<g class=\"edge\" id=\"edge1\"><title>360006432-&gt;345735240</title>\n",
       "<path d=\"M280.5,-2920.31C280.5,-2912.29 280.5,-2902.55 280.5,-2893.57\" fill=\"none\" stroke=\"black\"/>\n",
       "<polygon fill=\"black\" points=\"284,-2893.53 280.5,-2883.53 277,-2893.53 284,-2893.53\" stroke=\"black\"/>\n",
       "</g>\n",
       "<!-- 345735408 -->\n",
       "<g class=\"node\" id=\"node3\"><title>345735408</title>\n",
       "<polygon fill=\"none\" points=\"150.5,-2774.5 150.5,-2810.5 410.5,-2810.5 410.5,-2774.5 150.5,-2774.5\" stroke=\"black\"/>\n",
       "<text font-family=\"Times New Roman,serif\" font-size=\"14.00\" text-anchor=\"middle\" x=\"280.5\" y=\"-2788.8\">batch_normalization_1: BatchNormalization</text>\n",
       "</g>\n",
       "<!-- 345735240&#45;&gt;345735408 -->\n",
       "<g class=\"edge\" id=\"edge2\"><title>345735240-&gt;345735408</title>\n",
       "<path d=\"M280.5,-2847.31C280.5,-2839.29 280.5,-2829.55 280.5,-2820.57\" fill=\"none\" stroke=\"black\"/>\n",
       "<polygon fill=\"black\" points=\"284,-2820.53 280.5,-2810.53 277,-2820.53 284,-2820.53\" stroke=\"black\"/>\n",
       "</g>\n",
       "<!-- 345736584 -->\n",
       "<g class=\"node\" id=\"node4\"><title>345736584</title>\n",
       "<polygon fill=\"none\" points=\"231,-2701.5 231,-2737.5 330,-2737.5 330,-2701.5 231,-2701.5\" stroke=\"black\"/>\n",
       "<text font-family=\"Times New Roman,serif\" font-size=\"14.00\" text-anchor=\"middle\" x=\"280.5\" y=\"-2715.8\">re_lu_1: ReLU</text>\n",
       "</g>\n",
       "<!-- 345735408&#45;&gt;345736584 -->\n",
       "<g class=\"edge\" id=\"edge3\"><title>345735408-&gt;345736584</title>\n",
       "<path d=\"M280.5,-2774.31C280.5,-2766.29 280.5,-2756.55 280.5,-2747.57\" fill=\"none\" stroke=\"black\"/>\n",
       "<polygon fill=\"black\" points=\"284,-2747.53 280.5,-2737.53 277,-2747.53 284,-2747.53\" stroke=\"black\"/>\n",
       "</g>\n",
       "<!-- 487728576 -->\n",
       "<g class=\"node\" id=\"node5\"><title>487728576</title>\n",
       "<polygon fill=\"none\" points=\"217,-2628.5 217,-2664.5 344,-2664.5 344,-2628.5 217,-2628.5\" stroke=\"black\"/>\n",
       "<text font-family=\"Times New Roman,serif\" font-size=\"14.00\" text-anchor=\"middle\" x=\"280.5\" y=\"-2642.8\">conv2d_2: Conv2D</text>\n",
       "</g>\n",
       "<!-- 345736584&#45;&gt;487728576 -->\n",
       "<g class=\"edge\" id=\"edge4\"><title>345736584-&gt;487728576</title>\n",
       "<path d=\"M280.5,-2701.31C280.5,-2693.29 280.5,-2683.55 280.5,-2674.57\" fill=\"none\" stroke=\"black\"/>\n",
       "<polygon fill=\"black\" points=\"284,-2674.53 280.5,-2664.53 277,-2674.53 284,-2674.53\" stroke=\"black\"/>\n",
       "</g>\n",
       "<!-- 490942360 -->\n",
       "<g class=\"node\" id=\"node6\"><title>490942360</title>\n",
       "<polygon fill=\"none\" points=\"150.5,-2555.5 150.5,-2591.5 410.5,-2591.5 410.5,-2555.5 150.5,-2555.5\" stroke=\"black\"/>\n",
       "<text font-family=\"Times New Roman,serif\" font-size=\"14.00\" text-anchor=\"middle\" x=\"280.5\" y=\"-2569.8\">batch_normalization_2: BatchNormalization</text>\n",
       "</g>\n",
       "<!-- 487728576&#45;&gt;490942360 -->\n",
       "<g class=\"edge\" id=\"edge5\"><title>487728576-&gt;490942360</title>\n",
       "<path d=\"M280.5,-2628.31C280.5,-2620.29 280.5,-2610.55 280.5,-2601.57\" fill=\"none\" stroke=\"black\"/>\n",
       "<polygon fill=\"black\" points=\"284,-2601.53 280.5,-2591.53 277,-2601.53 284,-2601.53\" stroke=\"black\"/>\n",
       "</g>\n",
       "<!-- 490941856 -->\n",
       "<g class=\"node\" id=\"node7\"><title>490941856</title>\n",
       "<polygon fill=\"none\" points=\"231,-2482.5 231,-2518.5 330,-2518.5 330,-2482.5 231,-2482.5\" stroke=\"black\"/>\n",
       "<text font-family=\"Times New Roman,serif\" font-size=\"14.00\" text-anchor=\"middle\" x=\"280.5\" y=\"-2496.8\">re_lu_2: ReLU</text>\n",
       "</g>\n",
       "<!-- 490942360&#45;&gt;490941856 -->\n",
       "<g class=\"edge\" id=\"edge6\"><title>490942360-&gt;490941856</title>\n",
       "<path d=\"M280.5,-2555.31C280.5,-2547.29 280.5,-2537.55 280.5,-2528.57\" fill=\"none\" stroke=\"black\"/>\n",
       "<polygon fill=\"black\" points=\"284,-2528.53 280.5,-2518.53 277,-2528.53 284,-2528.53\" stroke=\"black\"/>\n",
       "</g>\n",
       "<!-- 491288504 -->\n",
       "<g class=\"node\" id=\"node8\"><title>491288504</title>\n",
       "<polygon fill=\"none\" points=\"217,-2409.5 217,-2445.5 344,-2445.5 344,-2409.5 217,-2409.5\" stroke=\"black\"/>\n",
       "<text font-family=\"Times New Roman,serif\" font-size=\"14.00\" text-anchor=\"middle\" x=\"280.5\" y=\"-2423.8\">conv2d_3: Conv2D</text>\n",
       "</g>\n",
       "<!-- 490941856&#45;&gt;491288504 -->\n",
       "<g class=\"edge\" id=\"edge7\"><title>490941856-&gt;491288504</title>\n",
       "<path d=\"M280.5,-2482.31C280.5,-2474.29 280.5,-2464.55 280.5,-2455.57\" fill=\"none\" stroke=\"black\"/>\n",
       "<polygon fill=\"black\" points=\"284,-2455.53 280.5,-2445.53 277,-2455.53 284,-2455.53\" stroke=\"black\"/>\n",
       "</g>\n",
       "<!-- 525099360 -->\n",
       "<g class=\"node\" id=\"node9\"><title>525099360</title>\n",
       "<polygon fill=\"none\" points=\"150.5,-2336.5 150.5,-2372.5 410.5,-2372.5 410.5,-2336.5 150.5,-2336.5\" stroke=\"black\"/>\n",
       "<text font-family=\"Times New Roman,serif\" font-size=\"14.00\" text-anchor=\"middle\" x=\"280.5\" y=\"-2350.8\">batch_normalization_3: BatchNormalization</text>\n",
       "</g>\n",
       "<!-- 491288504&#45;&gt;525099360 -->\n",
       "<g class=\"edge\" id=\"edge8\"><title>491288504-&gt;525099360</title>\n",
       "<path d=\"M280.5,-2409.31C280.5,-2401.29 280.5,-2391.55 280.5,-2382.57\" fill=\"none\" stroke=\"black\"/>\n",
       "<polygon fill=\"black\" points=\"284,-2382.53 280.5,-2372.53 277,-2382.53 284,-2382.53\" stroke=\"black\"/>\n",
       "</g>\n",
       "<!-- 522838704 -->\n",
       "<g class=\"node\" id=\"node10\"><title>522838704</title>\n",
       "<polygon fill=\"none\" points=\"231,-2263.5 231,-2299.5 330,-2299.5 330,-2263.5 231,-2263.5\" stroke=\"black\"/>\n",
       "<text font-family=\"Times New Roman,serif\" font-size=\"14.00\" text-anchor=\"middle\" x=\"280.5\" y=\"-2277.8\">re_lu_3: ReLU</text>\n",
       "</g>\n",
       "<!-- 525099360&#45;&gt;522838704 -->\n",
       "<g class=\"edge\" id=\"edge9\"><title>525099360-&gt;522838704</title>\n",
       "<path d=\"M280.5,-2336.31C280.5,-2328.29 280.5,-2318.55 280.5,-2309.57\" fill=\"none\" stroke=\"black\"/>\n",
       "<polygon fill=\"black\" points=\"284,-2309.53 280.5,-2299.53 277,-2309.53 284,-2309.53\" stroke=\"black\"/>\n",
       "</g>\n",
       "<!-- 520563176 -->\n",
       "<g class=\"node\" id=\"node11\"><title>520563176</title>\n",
       "<polygon fill=\"none\" points=\"176,-2190.5 176,-2226.5 385,-2226.5 385,-2190.5 176,-2190.5\" stroke=\"black\"/>\n",
       "<text font-family=\"Times New Roman,serif\" font-size=\"14.00\" text-anchor=\"middle\" x=\"280.5\" y=\"-2204.8\">max_pooling2d_1: MaxPooling2D</text>\n",
       "</g>\n",
       "<!-- 522838704&#45;&gt;520563176 -->\n",
       "<g class=\"edge\" id=\"edge10\"><title>522838704-&gt;520563176</title>\n",
       "<path d=\"M280.5,-2263.31C280.5,-2255.29 280.5,-2245.55 280.5,-2236.57\" fill=\"none\" stroke=\"black\"/>\n",
       "<polygon fill=\"black\" points=\"284,-2236.53 280.5,-2226.53 277,-2236.53 284,-2236.53\" stroke=\"black\"/>\n",
       "</g>\n",
       "<!-- 525213144 -->\n",
       "<g class=\"node\" id=\"node12\"><title>525213144</title>\n",
       "<polygon fill=\"none\" points=\"215.5,-2117.5 215.5,-2153.5 345.5,-2153.5 345.5,-2117.5 215.5,-2117.5\" stroke=\"black\"/>\n",
       "<text font-family=\"Times New Roman,serif\" font-size=\"14.00\" text-anchor=\"middle\" x=\"280.5\" y=\"-2131.8\">dropout_1: Dropout</text>\n",
       "</g>\n",
       "<!-- 520563176&#45;&gt;525213144 -->\n",
       "<g class=\"edge\" id=\"edge11\"><title>520563176-&gt;525213144</title>\n",
       "<path d=\"M280.5,-2190.31C280.5,-2182.29 280.5,-2172.55 280.5,-2163.57\" fill=\"none\" stroke=\"black\"/>\n",
       "<polygon fill=\"black\" points=\"284,-2163.53 280.5,-2153.53 277,-2163.53 284,-2163.53\" stroke=\"black\"/>\n",
       "</g>\n",
       "<!-- 525323344 -->\n",
       "<g class=\"node\" id=\"node13\"><title>525323344</title>\n",
       "<polygon fill=\"none\" points=\"0,-2044.5 0,-2080.5 127,-2080.5 127,-2044.5 0,-2044.5\" stroke=\"black\"/>\n",
       "<text font-family=\"Times New Roman,serif\" font-size=\"14.00\" text-anchor=\"middle\" x=\"63.5\" y=\"-2058.8\">conv2d_4: Conv2D</text>\n",
       "</g>\n",
       "<!-- 525213144&#45;&gt;525323344 -->\n",
       "<g class=\"edge\" id=\"edge12\"><title>525213144-&gt;525323344</title>\n",
       "<path d=\"M228.523,-2117.49C197.615,-2107.38 158.218,-2094.49 125.669,-2083.84\" fill=\"none\" stroke=\"black\"/>\n",
       "<polygon fill=\"black\" points=\"126.397,-2080.4 115.805,-2080.61 124.221,-2087.05 126.397,-2080.4\" stroke=\"black\"/>\n",
       "</g>\n",
       "<!-- 848323584 -->\n",
       "<g class=\"node\" id=\"node14\"><title>848323584</title>\n",
       "<polygon fill=\"none\" points=\"145,-2044.5 145,-2080.5 272,-2080.5 272,-2044.5 145,-2044.5\" stroke=\"black\"/>\n",
       "<text font-family=\"Times New Roman,serif\" font-size=\"14.00\" text-anchor=\"middle\" x=\"208.5\" y=\"-2058.8\">conv2d_5: Conv2D</text>\n",
       "</g>\n",
       "<!-- 525213144&#45;&gt;848323584 -->\n",
       "<g class=\"edge\" id=\"edge13\"><title>525213144-&gt;848323584</title>\n",
       "<path d=\"M263.071,-2117.31C254.05,-2108.42 242.887,-2097.41 233.012,-2087.67\" fill=\"none\" stroke=\"black\"/>\n",
       "<polygon fill=\"black\" points=\"235.347,-2085.06 225.769,-2080.53 230.432,-2090.04 235.347,-2085.06\" stroke=\"black\"/>\n",
       "</g>\n",
       "<!-- 848720000 -->\n",
       "<g class=\"node\" id=\"node15\"><title>848720000</title>\n",
       "<polygon fill=\"none\" points=\"290,-2044.5 290,-2080.5 417,-2080.5 417,-2044.5 290,-2044.5\" stroke=\"black\"/>\n",
       "<text font-family=\"Times New Roman,serif\" font-size=\"14.00\" text-anchor=\"middle\" x=\"353.5\" y=\"-2058.8\">conv2d_6: Conv2D</text>\n",
       "</g>\n",
       "<!-- 525213144&#45;&gt;848720000 -->\n",
       "<g class=\"edge\" id=\"edge14\"><title>525213144-&gt;848720000</title>\n",
       "<path d=\"M298.171,-2117.31C307.317,-2108.42 318.635,-2097.41 328.647,-2087.67\" fill=\"none\" stroke=\"black\"/>\n",
       "<polygon fill=\"black\" points=\"331.263,-2090.01 335.991,-2080.53 326.383,-2084.99 331.263,-2090.01\" stroke=\"black\"/>\n",
       "</g>\n",
       "<!-- 848725272 -->\n",
       "<g class=\"node\" id=\"node16\"><title>848725272</title>\n",
       "<polygon fill=\"none\" points=\"435,-2044.5 435,-2080.5 562,-2080.5 562,-2044.5 435,-2044.5\" stroke=\"black\"/>\n",
       "<text font-family=\"Times New Roman,serif\" font-size=\"14.00\" text-anchor=\"middle\" x=\"498.5\" y=\"-2058.8\">conv2d_7: Conv2D</text>\n",
       "</g>\n",
       "<!-- 525213144&#45;&gt;848725272 -->\n",
       "<g class=\"edge\" id=\"edge15\"><title>525213144-&gt;848725272</title>\n",
       "<path d=\"M332.716,-2117.49C363.766,-2107.38 403.346,-2094.49 436.044,-2083.84\" fill=\"none\" stroke=\"black\"/>\n",
       "<polygon fill=\"black\" points=\"437.53,-2087.04 445.954,-2080.61 435.362,-2080.38 437.53,-2087.04\" stroke=\"black\"/>\n",
       "</g>\n",
       "<!-- 848323808 -->\n",
       "<g class=\"node\" id=\"node17\"><title>848323808</title>\n",
       "<polygon fill=\"none\" points=\"35,-1971.5 35,-2007.5 134,-2007.5 134,-1971.5 35,-1971.5\" stroke=\"black\"/>\n",
       "<text font-family=\"Times New Roman,serif\" font-size=\"14.00\" text-anchor=\"middle\" x=\"84.5\" y=\"-1985.8\">re_lu_4: ReLU</text>\n",
       "</g>\n",
       "<!-- 525323344&#45;&gt;848323808 -->\n",
       "<g class=\"edge\" id=\"edge16\"><title>525323344-&gt;848323808</title>\n",
       "<path d=\"M68.5835,-2044.31C70.9824,-2036.2 73.9008,-2026.34 76.5801,-2017.28\" fill=\"none\" stroke=\"black\"/>\n",
       "<polygon fill=\"black\" points=\"79.9832,-2018.11 79.4633,-2007.53 73.2707,-2016.13 79.9832,-2018.11\" stroke=\"black\"/>\n",
       "</g>\n",
       "<!-- 848721288 -->\n",
       "<g class=\"node\" id=\"node18\"><title>848721288</title>\n",
       "<polygon fill=\"none\" points=\"166,-1971.5 166,-2007.5 265,-2007.5 265,-1971.5 166,-1971.5\" stroke=\"black\"/>\n",
       "<text font-family=\"Times New Roman,serif\" font-size=\"14.00\" text-anchor=\"middle\" x=\"215.5\" y=\"-1985.8\">re_lu_5: ReLU</text>\n",
       "</g>\n",
       "<!-- 848323584&#45;&gt;848721288 -->\n",
       "<g class=\"edge\" id=\"edge17\"><title>848323584-&gt;848721288</title>\n",
       "<path d=\"M210.195,-2044.31C210.986,-2036.29 211.946,-2026.55 212.831,-2017.57\" fill=\"none\" stroke=\"black\"/>\n",
       "<polygon fill=\"black\" points=\"216.323,-2017.82 213.821,-2007.53 209.357,-2017.14 216.323,-2017.82\" stroke=\"black\"/>\n",
       "</g>\n",
       "<!-- 848724320 -->\n",
       "<g class=\"node\" id=\"node19\"><title>848724320</title>\n",
       "<polygon fill=\"none\" points=\"297,-1971.5 297,-2007.5 396,-2007.5 396,-1971.5 297,-1971.5\" stroke=\"black\"/>\n",
       "<text font-family=\"Times New Roman,serif\" font-size=\"14.00\" text-anchor=\"middle\" x=\"346.5\" y=\"-1985.8\">re_lu_6: ReLU</text>\n",
       "</g>\n",
       "<!-- 848720000&#45;&gt;848724320 -->\n",
       "<g class=\"edge\" id=\"edge18\"><title>848720000-&gt;848724320</title>\n",
       "<path d=\"M351.805,-2044.31C351.014,-2036.29 350.054,-2026.55 349.169,-2017.57\" fill=\"none\" stroke=\"black\"/>\n",
       "<polygon fill=\"black\" points=\"352.643,-2017.14 348.179,-2007.53 345.677,-2017.82 352.643,-2017.14\" stroke=\"black\"/>\n",
       "</g>\n",
       "<!-- 848950104 -->\n",
       "<g class=\"node\" id=\"node20\"><title>848950104</title>\n",
       "<polygon fill=\"none\" points=\"442,-1971.5 442,-2007.5 541,-2007.5 541,-1971.5 442,-1971.5\" stroke=\"black\"/>\n",
       "<text font-family=\"Times New Roman,serif\" font-size=\"14.00\" text-anchor=\"middle\" x=\"491.5\" y=\"-1985.8\">re_lu_7: ReLU</text>\n",
       "</g>\n",
       "<!-- 848725272&#45;&gt;848950104 -->\n",
       "<g class=\"edge\" id=\"edge19\"><title>848725272-&gt;848950104</title>\n",
       "<path d=\"M496.805,-2044.31C496.014,-2036.29 495.054,-2026.55 494.169,-2017.57\" fill=\"none\" stroke=\"black\"/>\n",
       "<polygon fill=\"black\" points=\"497.643,-2017.14 493.179,-2007.53 490.677,-2017.82 497.643,-2017.14\" stroke=\"black\"/>\n",
       "</g>\n",
       "<!-- 848951840 -->\n",
       "<g class=\"node\" id=\"node21\"><title>848951840</title>\n",
       "<polygon fill=\"none\" points=\"194,-1898.5 194,-1934.5 367,-1934.5 367,-1898.5 194,-1898.5\" stroke=\"black\"/>\n",
       "<text font-family=\"Times New Roman,serif\" font-size=\"14.00\" text-anchor=\"middle\" x=\"280.5\" y=\"-1912.8\">concatenate_1: Concatenate</text>\n",
       "</g>\n",
       "<!-- 848323808&#45;&gt;848951840 -->\n",
       "<g class=\"edge\" id=\"edge20\"><title>848323808-&gt;848951840</title>\n",
       "<path d=\"M131.447,-1971.49C159.123,-1961.47 194.335,-1948.71 223.585,-1938.12\" fill=\"none\" stroke=\"black\"/>\n",
       "<polygon fill=\"black\" points=\"225.047,-1941.31 233.257,-1934.61 222.663,-1934.73 225.047,-1941.31\" stroke=\"black\"/>\n",
       "</g>\n",
       "<!-- 848721288&#45;&gt;848951840 -->\n",
       "<g class=\"edge\" id=\"edge21\"><title>848721288-&gt;848951840</title>\n",
       "<path d=\"M231.235,-1971.31C239.299,-1962.5 249.259,-1951.63 258.108,-1941.96\" fill=\"none\" stroke=\"black\"/>\n",
       "<polygon fill=\"black\" points=\"260.739,-1944.27 264.91,-1934.53 255.576,-1939.54 260.739,-1944.27\" stroke=\"black\"/>\n",
       "</g>\n",
       "<!-- 848724320&#45;&gt;848951840 -->\n",
       "<g class=\"edge\" id=\"edge22\"><title>848724320-&gt;848951840</title>\n",
       "<path d=\"M330.523,-1971.31C322.335,-1962.5 312.222,-1951.63 303.236,-1941.96\" fill=\"none\" stroke=\"black\"/>\n",
       "<polygon fill=\"black\" points=\"305.702,-1939.47 296.33,-1934.53 300.575,-1944.24 305.702,-1939.47\" stroke=\"black\"/>\n",
       "</g>\n",
       "<!-- 848950104&#45;&gt;848951840 -->\n",
       "<g class=\"edge\" id=\"edge23\"><title>848950104-&gt;848951840</title>\n",
       "<path d=\"M441.763,-1971.76C411.62,-1961.62 372.953,-1948.61 341.039,-1937.87\" fill=\"none\" stroke=\"black\"/>\n",
       "<polygon fill=\"black\" points=\"341.963,-1934.49 331.369,-1934.62 339.73,-1941.12 341.963,-1934.49\" stroke=\"black\"/>\n",
       "</g>\n",
       "<!-- 848950272 -->\n",
       "<g class=\"node\" id=\"node22\"><title>848950272</title>\n",
       "<polygon fill=\"none\" points=\"150.5,-1825.5 150.5,-1861.5 410.5,-1861.5 410.5,-1825.5 150.5,-1825.5\" stroke=\"black\"/>\n",
       "<text font-family=\"Times New Roman,serif\" font-size=\"14.00\" text-anchor=\"middle\" x=\"280.5\" y=\"-1839.8\">batch_normalization_4: BatchNormalization</text>\n",
       "</g>\n",
       "<!-- 848951840&#45;&gt;848950272 -->\n",
       "<g class=\"edge\" id=\"edge24\"><title>848951840-&gt;848950272</title>\n",
       "<path d=\"M280.5,-1898.31C280.5,-1890.29 280.5,-1880.55 280.5,-1871.57\" fill=\"none\" stroke=\"black\"/>\n",
       "<polygon fill=\"black\" points=\"284,-1871.53 280.5,-1861.53 277,-1871.53 284,-1871.53\" stroke=\"black\"/>\n",
       "</g>\n",
       "<!-- 849058056 -->\n",
       "<g class=\"node\" id=\"node23\"><title>849058056</title>\n",
       "<polygon fill=\"none\" points=\"176,-1752.5 176,-1788.5 385,-1788.5 385,-1752.5 176,-1752.5\" stroke=\"black\"/>\n",
       "<text font-family=\"Times New Roman,serif\" font-size=\"14.00\" text-anchor=\"middle\" x=\"280.5\" y=\"-1766.8\">max_pooling2d_2: MaxPooling2D</text>\n",
       "</g>\n",
       "<!-- 848950272&#45;&gt;849058056 -->\n",
       "<g class=\"edge\" id=\"edge25\"><title>848950272-&gt;849058056</title>\n",
       "<path d=\"M280.5,-1825.31C280.5,-1817.29 280.5,-1807.55 280.5,-1798.57\" fill=\"none\" stroke=\"black\"/>\n",
       "<polygon fill=\"black\" points=\"284,-1798.53 280.5,-1788.53 277,-1798.53 284,-1798.53\" stroke=\"black\"/>\n",
       "</g>\n",
       "<!-- 849202424 -->\n",
       "<g class=\"node\" id=\"node24\"><title>849202424</title>\n",
       "<polygon fill=\"none\" points=\"215.5,-1679.5 215.5,-1715.5 345.5,-1715.5 345.5,-1679.5 215.5,-1679.5\" stroke=\"black\"/>\n",
       "<text font-family=\"Times New Roman,serif\" font-size=\"14.00\" text-anchor=\"middle\" x=\"280.5\" y=\"-1693.8\">dropout_2: Dropout</text>\n",
       "</g>\n",
       "<!-- 849058056&#45;&gt;849202424 -->\n",
       "<g class=\"edge\" id=\"edge26\"><title>849058056-&gt;849202424</title>\n",
       "<path d=\"M280.5,-1752.31C280.5,-1744.29 280.5,-1734.55 280.5,-1725.57\" fill=\"none\" stroke=\"black\"/>\n",
       "<polygon fill=\"black\" points=\"284,-1725.53 280.5,-1715.53 277,-1725.53 284,-1725.53\" stroke=\"black\"/>\n",
       "</g>\n",
       "<!-- 849202536 -->\n",
       "<g class=\"node\" id=\"node25\"><title>849202536</title>\n",
       "<polygon fill=\"none\" points=\"217,-1606.5 217,-1642.5 344,-1642.5 344,-1606.5 217,-1606.5\" stroke=\"black\"/>\n",
       "<text font-family=\"Times New Roman,serif\" font-size=\"14.00\" text-anchor=\"middle\" x=\"280.5\" y=\"-1620.8\">conv2d_8: Conv2D</text>\n",
       "</g>\n",
       "<!-- 849202424&#45;&gt;849202536 -->\n",
       "<g class=\"edge\" id=\"edge27\"><title>849202424-&gt;849202536</title>\n",
       "<path d=\"M280.5,-1679.31C280.5,-1671.29 280.5,-1661.55 280.5,-1652.57\" fill=\"none\" stroke=\"black\"/>\n",
       "<polygon fill=\"black\" points=\"284,-1652.53 280.5,-1642.53 277,-1652.53 284,-1652.53\" stroke=\"black\"/>\n",
       "</g>\n",
       "<!-- 854312888 -->\n",
       "<g class=\"node\" id=\"node26\"><title>854312888</title>\n",
       "<polygon fill=\"none\" points=\"150.5,-1533.5 150.5,-1569.5 410.5,-1569.5 410.5,-1533.5 150.5,-1533.5\" stroke=\"black\"/>\n",
       "<text font-family=\"Times New Roman,serif\" font-size=\"14.00\" text-anchor=\"middle\" x=\"280.5\" y=\"-1547.8\">batch_normalization_5: BatchNormalization</text>\n",
       "</g>\n",
       "<!-- 849202536&#45;&gt;854312888 -->\n",
       "<g class=\"edge\" id=\"edge28\"><title>849202536-&gt;854312888</title>\n",
       "<path d=\"M280.5,-1606.31C280.5,-1598.29 280.5,-1588.55 280.5,-1579.57\" fill=\"none\" stroke=\"black\"/>\n",
       "<polygon fill=\"black\" points=\"284,-1579.53 280.5,-1569.53 277,-1579.53 284,-1579.53\" stroke=\"black\"/>\n",
       "</g>\n",
       "<!-- 854313560 -->\n",
       "<g class=\"node\" id=\"node27\"><title>854313560</title>\n",
       "<polygon fill=\"none\" points=\"231,-1460.5 231,-1496.5 330,-1496.5 330,-1460.5 231,-1460.5\" stroke=\"black\"/>\n",
       "<text font-family=\"Times New Roman,serif\" font-size=\"14.00\" text-anchor=\"middle\" x=\"280.5\" y=\"-1474.8\">re_lu_8: ReLU</text>\n",
       "</g>\n",
       "<!-- 854312888&#45;&gt;854313560 -->\n",
       "<g class=\"edge\" id=\"edge29\"><title>854312888-&gt;854313560</title>\n",
       "<path d=\"M280.5,-1533.31C280.5,-1525.29 280.5,-1515.55 280.5,-1506.57\" fill=\"none\" stroke=\"black\"/>\n",
       "<polygon fill=\"black\" points=\"284,-1506.53 280.5,-1496.53 277,-1506.53 284,-1506.53\" stroke=\"black\"/>\n",
       "</g>\n",
       "<!-- 854780560 -->\n",
       "<g class=\"node\" id=\"node28\"><title>854780560</title>\n",
       "<polygon fill=\"none\" points=\"176,-1387.5 176,-1423.5 385,-1423.5 385,-1387.5 176,-1387.5\" stroke=\"black\"/>\n",
       "<text font-family=\"Times New Roman,serif\" font-size=\"14.00\" text-anchor=\"middle\" x=\"280.5\" y=\"-1401.8\">max_pooling2d_3: MaxPooling2D</text>\n",
       "</g>\n",
       "<!-- 854313560&#45;&gt;854780560 -->\n",
       "<g class=\"edge\" id=\"edge30\"><title>854313560-&gt;854780560</title>\n",
       "<path d=\"M280.5,-1460.31C280.5,-1452.29 280.5,-1442.55 280.5,-1433.57\" fill=\"none\" stroke=\"black\"/>\n",
       "<polygon fill=\"black\" points=\"284,-1433.53 280.5,-1423.53 277,-1433.53 284,-1433.53\" stroke=\"black\"/>\n",
       "</g>\n",
       "<!-- 854891824 -->\n",
       "<g class=\"node\" id=\"node29\"><title>854891824</title>\n",
       "<polygon fill=\"none\" points=\"215.5,-1314.5 215.5,-1350.5 345.5,-1350.5 345.5,-1314.5 215.5,-1314.5\" stroke=\"black\"/>\n",
       "<text font-family=\"Times New Roman,serif\" font-size=\"14.00\" text-anchor=\"middle\" x=\"280.5\" y=\"-1328.8\">dropout_3: Dropout</text>\n",
       "</g>\n",
       "<!-- 854780560&#45;&gt;854891824 -->\n",
       "<g class=\"edge\" id=\"edge31\"><title>854780560-&gt;854891824</title>\n",
       "<path d=\"M280.5,-1387.31C280.5,-1379.29 280.5,-1369.55 280.5,-1360.57\" fill=\"none\" stroke=\"black\"/>\n",
       "<polygon fill=\"black\" points=\"284,-1360.53 280.5,-1350.53 277,-1360.53 284,-1360.53\" stroke=\"black\"/>\n",
       "</g>\n",
       "<!-- 854891992 -->\n",
       "<g class=\"node\" id=\"node30\"><title>854891992</title>\n",
       "<polygon fill=\"none\" points=\"217,-1241.5 217,-1277.5 344,-1277.5 344,-1241.5 217,-1241.5\" stroke=\"black\"/>\n",
       "<text font-family=\"Times New Roman,serif\" font-size=\"14.00\" text-anchor=\"middle\" x=\"280.5\" y=\"-1255.8\">conv2d_9: Conv2D</text>\n",
       "</g>\n",
       "<!-- 854891824&#45;&gt;854891992 -->\n",
       "<g class=\"edge\" id=\"edge32\"><title>854891824-&gt;854891992</title>\n",
       "<path d=\"M280.5,-1314.31C280.5,-1306.29 280.5,-1296.55 280.5,-1287.57\" fill=\"none\" stroke=\"black\"/>\n",
       "<polygon fill=\"black\" points=\"284,-1287.53 280.5,-1277.53 277,-1287.53 284,-1287.53\" stroke=\"black\"/>\n",
       "</g>\n",
       "<!-- 857878032 -->\n",
       "<g class=\"node\" id=\"node31\"><title>857878032</title>\n",
       "<polygon fill=\"none\" points=\"150.5,-1168.5 150.5,-1204.5 410.5,-1204.5 410.5,-1168.5 150.5,-1168.5\" stroke=\"black\"/>\n",
       "<text font-family=\"Times New Roman,serif\" font-size=\"14.00\" text-anchor=\"middle\" x=\"280.5\" y=\"-1182.8\">batch_normalization_6: BatchNormalization</text>\n",
       "</g>\n",
       "<!-- 854891992&#45;&gt;857878032 -->\n",
       "<g class=\"edge\" id=\"edge33\"><title>854891992-&gt;857878032</title>\n",
       "<path d=\"M280.5,-1241.31C280.5,-1233.29 280.5,-1223.55 280.5,-1214.57\" fill=\"none\" stroke=\"black\"/>\n",
       "<polygon fill=\"black\" points=\"284,-1214.53 280.5,-1204.53 277,-1214.53 284,-1214.53\" stroke=\"black\"/>\n",
       "</g>\n",
       "<!-- 858047712 -->\n",
       "<g class=\"node\" id=\"node32\"><title>858047712</title>\n",
       "<polygon fill=\"none\" points=\"231,-1095.5 231,-1131.5 330,-1131.5 330,-1095.5 231,-1095.5\" stroke=\"black\"/>\n",
       "<text font-family=\"Times New Roman,serif\" font-size=\"14.00\" text-anchor=\"middle\" x=\"280.5\" y=\"-1109.8\">re_lu_9: ReLU</text>\n",
       "</g>\n",
       "<!-- 857878032&#45;&gt;858047712 -->\n",
       "<g class=\"edge\" id=\"edge34\"><title>857878032-&gt;858047712</title>\n",
       "<path d=\"M280.5,-1168.31C280.5,-1160.29 280.5,-1150.55 280.5,-1141.57\" fill=\"none\" stroke=\"black\"/>\n",
       "<polygon fill=\"black\" points=\"284,-1141.53 280.5,-1131.53 277,-1141.53 284,-1141.53\" stroke=\"black\"/>\n",
       "</g>\n",
       "<!-- 858353056 -->\n",
       "<g class=\"node\" id=\"node33\"><title>858353056</title>\n",
       "<polygon fill=\"none\" points=\"176,-1022.5 176,-1058.5 385,-1058.5 385,-1022.5 176,-1022.5\" stroke=\"black\"/>\n",
       "<text font-family=\"Times New Roman,serif\" font-size=\"14.00\" text-anchor=\"middle\" x=\"280.5\" y=\"-1036.8\">max_pooling2d_4: MaxPooling2D</text>\n",
       "</g>\n",
       "<!-- 858047712&#45;&gt;858353056 -->\n",
       "<g class=\"edge\" id=\"edge35\"><title>858047712-&gt;858353056</title>\n",
       "<path d=\"M280.5,-1095.31C280.5,-1087.29 280.5,-1077.55 280.5,-1068.57\" fill=\"none\" stroke=\"black\"/>\n",
       "<polygon fill=\"black\" points=\"284,-1068.53 280.5,-1058.53 277,-1068.53 284,-1068.53\" stroke=\"black\"/>\n",
       "</g>\n",
       "<!-- 858726016 -->\n",
       "<g class=\"node\" id=\"node34\"><title>858726016</title>\n",
       "<polygon fill=\"none\" points=\"215.5,-949.5 215.5,-985.5 345.5,-985.5 345.5,-949.5 215.5,-949.5\" stroke=\"black\"/>\n",
       "<text font-family=\"Times New Roman,serif\" font-size=\"14.00\" text-anchor=\"middle\" x=\"280.5\" y=\"-963.8\">dropout_4: Dropout</text>\n",
       "</g>\n",
       "<!-- 858353056&#45;&gt;858726016 -->\n",
       "<g class=\"edge\" id=\"edge36\"><title>858353056-&gt;858726016</title>\n",
       "<path d=\"M280.5,-1022.31C280.5,-1014.29 280.5,-1004.55 280.5,-995.569\" fill=\"none\" stroke=\"black\"/>\n",
       "<polygon fill=\"black\" points=\"284,-995.529 280.5,-985.529 277,-995.529 284,-995.529\" stroke=\"black\"/>\n",
       "</g>\n",
       "<!-- 858569136 -->\n",
       "<g class=\"node\" id=\"node35\"><title>858569136</title>\n",
       "<polygon fill=\"none\" points=\"213.5,-876.5 213.5,-912.5 347.5,-912.5 347.5,-876.5 213.5,-876.5\" stroke=\"black\"/>\n",
       "<text font-family=\"Times New Roman,serif\" font-size=\"14.00\" text-anchor=\"middle\" x=\"280.5\" y=\"-890.8\">conv2d_10: Conv2D</text>\n",
       "</g>\n",
       "<!-- 858726016&#45;&gt;858569136 -->\n",
       "<g class=\"edge\" id=\"edge37\"><title>858726016-&gt;858569136</title>\n",
       "<path d=\"M280.5,-949.313C280.5,-941.289 280.5,-931.547 280.5,-922.569\" fill=\"none\" stroke=\"black\"/>\n",
       "<polygon fill=\"black\" points=\"284,-922.529 280.5,-912.529 277,-922.529 284,-922.529\" stroke=\"black\"/>\n",
       "</g>\n",
       "<!-- 861570216 -->\n",
       "<g class=\"node\" id=\"node36\"><title>861570216</title>\n",
       "<polygon fill=\"none\" points=\"150.5,-803.5 150.5,-839.5 410.5,-839.5 410.5,-803.5 150.5,-803.5\" stroke=\"black\"/>\n",
       "<text font-family=\"Times New Roman,serif\" font-size=\"14.00\" text-anchor=\"middle\" x=\"280.5\" y=\"-817.8\">batch_normalization_7: BatchNormalization</text>\n",
       "</g>\n",
       "<!-- 858569136&#45;&gt;861570216 -->\n",
       "<g class=\"edge\" id=\"edge38\"><title>858569136-&gt;861570216</title>\n",
       "<path d=\"M280.5,-876.313C280.5,-868.289 280.5,-858.547 280.5,-849.569\" fill=\"none\" stroke=\"black\"/>\n",
       "<polygon fill=\"black\" points=\"284,-849.529 280.5,-839.529 277,-849.529 284,-849.529\" stroke=\"black\"/>\n",
       "</g>\n",
       "<!-- 861570160 -->\n",
       "<g class=\"node\" id=\"node37\"><title>861570160</title>\n",
       "<polygon fill=\"none\" points=\"227.5,-730.5 227.5,-766.5 333.5,-766.5 333.5,-730.5 227.5,-730.5\" stroke=\"black\"/>\n",
       "<text font-family=\"Times New Roman,serif\" font-size=\"14.00\" text-anchor=\"middle\" x=\"280.5\" y=\"-744.8\">re_lu_10: ReLU</text>\n",
       "</g>\n",
       "<!-- 861570216&#45;&gt;861570160 -->\n",
       "<g class=\"edge\" id=\"edge39\"><title>861570216-&gt;861570160</title>\n",
       "<path d=\"M280.5,-803.313C280.5,-795.289 280.5,-785.547 280.5,-776.569\" fill=\"none\" stroke=\"black\"/>\n",
       "<polygon fill=\"black\" points=\"284,-776.529 280.5,-766.529 277,-776.529 284,-776.529\" stroke=\"black\"/>\n",
       "</g>\n",
       "<!-- 864226720 -->\n",
       "<g class=\"node\" id=\"node38\"><title>864226720</title>\n",
       "<polygon fill=\"none\" points=\"176,-657.5 176,-693.5 385,-693.5 385,-657.5 176,-657.5\" stroke=\"black\"/>\n",
       "<text font-family=\"Times New Roman,serif\" font-size=\"14.00\" text-anchor=\"middle\" x=\"280.5\" y=\"-671.8\">max_pooling2d_5: MaxPooling2D</text>\n",
       "</g>\n",
       "<!-- 861570160&#45;&gt;864226720 -->\n",
       "<g class=\"edge\" id=\"edge40\"><title>861570160-&gt;864226720</title>\n",
       "<path d=\"M280.5,-730.313C280.5,-722.289 280.5,-712.547 280.5,-703.569\" fill=\"none\" stroke=\"black\"/>\n",
       "<polygon fill=\"black\" points=\"284,-703.529 280.5,-693.529 277,-703.529 284,-703.529\" stroke=\"black\"/>\n",
       "</g>\n",
       "<!-- 863869248 -->\n",
       "<g class=\"node\" id=\"node39\"><title>863869248</title>\n",
       "<polygon fill=\"none\" points=\"215.5,-584.5 215.5,-620.5 345.5,-620.5 345.5,-584.5 215.5,-584.5\" stroke=\"black\"/>\n",
       "<text font-family=\"Times New Roman,serif\" font-size=\"14.00\" text-anchor=\"middle\" x=\"280.5\" y=\"-598.8\">dropout_5: Dropout</text>\n",
       "</g>\n",
       "<!-- 864226720&#45;&gt;863869248 -->\n",
       "<g class=\"edge\" id=\"edge41\"><title>864226720-&gt;863869248</title>\n",
       "<path d=\"M280.5,-657.313C280.5,-649.289 280.5,-639.547 280.5,-630.569\" fill=\"none\" stroke=\"black\"/>\n",
       "<polygon fill=\"black\" points=\"284,-630.529 280.5,-620.529 277,-630.529 284,-630.529\" stroke=\"black\"/>\n",
       "</g>\n",
       "<!-- 863868968 -->\n",
       "<g class=\"node\" id=\"node40\"><title>863868968</title>\n",
       "<polygon fill=\"none\" points=\"117,-511.5 117,-547.5 444,-547.5 444,-511.5 117,-511.5\" stroke=\"black\"/>\n",
       "<text font-family=\"Times New Roman,serif\" font-size=\"14.00\" text-anchor=\"middle\" x=\"280.5\" y=\"-525.8\">global_average_pooling2d_1: GlobalAveragePooling2D</text>\n",
       "</g>\n",
       "<!-- 863869248&#45;&gt;863868968 -->\n",
       "<g class=\"edge\" id=\"edge42\"><title>863869248-&gt;863868968</title>\n",
       "<path d=\"M280.5,-584.313C280.5,-576.289 280.5,-566.547 280.5,-557.569\" fill=\"none\" stroke=\"black\"/>\n",
       "<polygon fill=\"black\" points=\"284,-557.529 280.5,-547.529 277,-557.529 284,-557.529\" stroke=\"black\"/>\n",
       "</g>\n",
       "<!-- 864098736 -->\n",
       "<g class=\"node\" id=\"node41\"><title>864098736</title>\n",
       "<polygon fill=\"none\" points=\"150.5,-438.5 150.5,-474.5 410.5,-474.5 410.5,-438.5 150.5,-438.5\" stroke=\"black\"/>\n",
       "<text font-family=\"Times New Roman,serif\" font-size=\"14.00\" text-anchor=\"middle\" x=\"280.5\" y=\"-452.8\">batch_normalization_8: BatchNormalization</text>\n",
       "</g>\n",
       "<!-- 863868968&#45;&gt;864098736 -->\n",
       "<g class=\"edge\" id=\"edge43\"><title>863868968-&gt;864098736</title>\n",
       "<path d=\"M280.5,-511.313C280.5,-503.289 280.5,-493.547 280.5,-484.569\" fill=\"none\" stroke=\"black\"/>\n",
       "<polygon fill=\"black\" points=\"284,-484.529 280.5,-474.529 277,-484.529 284,-484.529\" stroke=\"black\"/>\n",
       "</g>\n",
       "<!-- 864949640 -->\n",
       "<g class=\"node\" id=\"node42\"><title>864949640</title>\n",
       "<polygon fill=\"none\" points=\"215.5,-365.5 215.5,-401.5 345.5,-401.5 345.5,-365.5 215.5,-365.5\" stroke=\"black\"/>\n",
       "<text font-family=\"Times New Roman,serif\" font-size=\"14.00\" text-anchor=\"middle\" x=\"280.5\" y=\"-379.8\">dropout_6: Dropout</text>\n",
       "</g>\n",
       "<!-- 864098736&#45;&gt;864949640 -->\n",
       "<g class=\"edge\" id=\"edge44\"><title>864098736-&gt;864949640</title>\n",
       "<path d=\"M280.5,-438.313C280.5,-430.289 280.5,-420.547 280.5,-411.569\" fill=\"none\" stroke=\"black\"/>\n",
       "<polygon fill=\"black\" points=\"284,-411.529 280.5,-401.529 277,-411.529 284,-411.529\" stroke=\"black\"/>\n",
       "</g>\n",
       "<!-- 865047888 -->\n",
       "<g class=\"node\" id=\"node43\"><title>865047888</title>\n",
       "<polygon fill=\"none\" points=\"228.5,-292.5 228.5,-328.5 332.5,-328.5 332.5,-292.5 228.5,-292.5\" stroke=\"black\"/>\n",
       "<text font-family=\"Times New Roman,serif\" font-size=\"14.00\" text-anchor=\"middle\" x=\"280.5\" y=\"-306.8\">dense_1: Dense</text>\n",
       "</g>\n",
       "<!-- 864949640&#45;&gt;865047888 -->\n",
       "<g class=\"edge\" id=\"edge45\"><title>864949640-&gt;865047888</title>\n",
       "<path d=\"M280.5,-365.313C280.5,-357.289 280.5,-347.547 280.5,-338.569\" fill=\"none\" stroke=\"black\"/>\n",
       "<polygon fill=\"black\" points=\"284,-338.529 280.5,-328.529 277,-338.529 284,-338.529\" stroke=\"black\"/>\n",
       "</g>\n",
       "<!-- 867836648 -->\n",
       "<g class=\"node\" id=\"node44\"><title>867836648</title>\n",
       "<polygon fill=\"none\" points=\"150.5,-219.5 150.5,-255.5 410.5,-255.5 410.5,-219.5 150.5,-219.5\" stroke=\"black\"/>\n",
       "<text font-family=\"Times New Roman,serif\" font-size=\"14.00\" text-anchor=\"middle\" x=\"280.5\" y=\"-233.8\">batch_normalization_9: BatchNormalization</text>\n",
       "</g>\n",
       "<!-- 865047888&#45;&gt;867836648 -->\n",
       "<g class=\"edge\" id=\"edge46\"><title>865047888-&gt;867836648</title>\n",
       "<path d=\"M280.5,-292.313C280.5,-284.289 280.5,-274.547 280.5,-265.569\" fill=\"none\" stroke=\"black\"/>\n",
       "<polygon fill=\"black\" points=\"284,-265.529 280.5,-255.529 277,-265.529 284,-265.529\" stroke=\"black\"/>\n",
       "</g>\n",
       "<!-- 867980064 -->\n",
       "<g class=\"node\" id=\"node45\"><title>867980064</title>\n",
       "<polygon fill=\"none\" points=\"227.5,-146.5 227.5,-182.5 333.5,-182.5 333.5,-146.5 227.5,-146.5\" stroke=\"black\"/>\n",
       "<text font-family=\"Times New Roman,serif\" font-size=\"14.00\" text-anchor=\"middle\" x=\"280.5\" y=\"-160.8\">re_lu_11: ReLU</text>\n",
       "</g>\n",
       "<!-- 867836648&#45;&gt;867980064 -->\n",
       "<g class=\"edge\" id=\"edge47\"><title>867836648-&gt;867980064</title>\n",
       "<path d=\"M280.5,-219.313C280.5,-211.289 280.5,-201.547 280.5,-192.569\" fill=\"none\" stroke=\"black\"/>\n",
       "<polygon fill=\"black\" points=\"284,-192.529 280.5,-182.529 277,-192.529 284,-192.529\" stroke=\"black\"/>\n",
       "</g>\n",
       "<!-- 868864408 -->\n",
       "<g class=\"node\" id=\"node46\"><title>868864408</title>\n",
       "<polygon fill=\"none\" points=\"215.5,-73.5 215.5,-109.5 345.5,-109.5 345.5,-73.5 215.5,-73.5\" stroke=\"black\"/>\n",
       "<text font-family=\"Times New Roman,serif\" font-size=\"14.00\" text-anchor=\"middle\" x=\"280.5\" y=\"-87.8\">dropout_7: Dropout</text>\n",
       "</g>\n",
       "<!-- 867980064&#45;&gt;868864408 -->\n",
       "<g class=\"edge\" id=\"edge48\"><title>867980064-&gt;868864408</title>\n",
       "<path d=\"M280.5,-146.313C280.5,-138.289 280.5,-128.547 280.5,-119.569\" fill=\"none\" stroke=\"black\"/>\n",
       "<polygon fill=\"black\" points=\"284,-119.529 280.5,-109.529 277,-119.529 284,-119.529\" stroke=\"black\"/>\n",
       "</g>\n",
       "<!-- 868867656 -->\n",
       "<g class=\"node\" id=\"node47\"><title>868867656</title>\n",
       "<polygon fill=\"none\" points=\"228.5,-0.5 228.5,-36.5 332.5,-36.5 332.5,-0.5 228.5,-0.5\" stroke=\"black\"/>\n",
       "<text font-family=\"Times New Roman,serif\" font-size=\"14.00\" text-anchor=\"middle\" x=\"280.5\" y=\"-14.8\">dense_2: Dense</text>\n",
       "</g>\n",
       "<!-- 868864408&#45;&gt;868867656 -->\n",
       "<g class=\"edge\" id=\"edge49\"><title>868864408-&gt;868867656</title>\n",
       "<path d=\"M280.5,-73.3129C280.5,-65.2895 280.5,-55.5475 280.5,-46.5691\" fill=\"none\" stroke=\"black\"/>\n",
       "<polygon fill=\"black\" points=\"284,-46.5288 280.5,-36.5288 277,-46.5289 284,-46.5288\" stroke=\"black\"/>\n",
       "</g>\n",
       "</g>\n",
       "</svg>"
      ],
      "text/plain": [
       "<IPython.core.display.SVG object>"
      ]
     },
     "execution_count": 105,
     "metadata": {},
     "output_type": "execute_result"
    }
   ],
   "source": [
    "from keras.utils import plot_model\n",
    "from IPython.display import SVG\n",
    "from keras.utils.vis_utils import model_to_dot\n",
    "\n",
    "plot_model(model, to_file='./model/model_cnn_protein.png')\n",
    "SVG(model_to_dot(model).create(prog='dot', format='svg'))"
   ]
  },
  {
   "cell_type": "code",
   "execution_count": null,
   "metadata": {},
   "outputs": [],
   "source": []
  }
 ],
 "metadata": {
  "kernelspec": {
   "display_name": "Python 3",
   "language": "python",
   "name": "python3"
  },
  "language_info": {
   "codemirror_mode": {
    "name": "ipython",
    "version": 3
   },
   "file_extension": ".py",
   "mimetype": "text/x-python",
   "name": "python",
   "nbconvert_exporter": "python",
   "pygments_lexer": "ipython3",
   "version": "3.6.8"
  }
 },
 "nbformat": 4,
 "nbformat_minor": 2
}
